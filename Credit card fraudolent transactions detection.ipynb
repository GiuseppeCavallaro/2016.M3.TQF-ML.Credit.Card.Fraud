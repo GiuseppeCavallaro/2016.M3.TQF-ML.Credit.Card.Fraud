{
 "cells": [
  {
   "cell_type": "markdown",
   "metadata": {},
   "source": [
    "# Credit Card Fraud detection Data"
   ]
  },
  {
   "cell_type": "markdown",
   "metadata": {},
   "source": [
    "For my final project I choose the credit card fraud detection data set, from :\"https://www.kaggle.com/dalpozz/creditcardfraud\""
   ]
  },
  {
   "cell_type": "code",
   "execution_count": 1,
   "metadata": {
    "collapsed": true
   },
   "outputs": [],
   "source": [
    "import pandas as pd\n",
    "import numpy as np\n",
    "import matplotlib.pyplot as plt\n",
    "from sklearn.model_selection import KFold\n",
    "from sklearn.model_selection import cross_val_score\n",
    "from sklearn.metrics import classification_report\n",
    "from sklearn.metrics import accuracy_score\n",
    "from sklearn.metrics import roc_auc_score\n",
    "from matplotlib import pyplot"
   ]
  },
  {
   "cell_type": "code",
   "execution_count": 2,
   "metadata": {
    "collapsed": false,
    "scrolled": true
   },
   "outputs": [
    {
     "data": {
      "text/html": [
       "<div>\n",
       "<table border=\"1\" class=\"dataframe\">\n",
       "  <thead>\n",
       "    <tr style=\"text-align: right;\">\n",
       "      <th></th>\n",
       "      <th>Time</th>\n",
       "      <th>V1</th>\n",
       "      <th>V2</th>\n",
       "      <th>V3</th>\n",
       "      <th>V4</th>\n",
       "      <th>V5</th>\n",
       "      <th>V6</th>\n",
       "      <th>V7</th>\n",
       "      <th>V8</th>\n",
       "      <th>V9</th>\n",
       "      <th>...</th>\n",
       "      <th>V21</th>\n",
       "      <th>V22</th>\n",
       "      <th>V23</th>\n",
       "      <th>V24</th>\n",
       "      <th>V25</th>\n",
       "      <th>V26</th>\n",
       "      <th>V27</th>\n",
       "      <th>V28</th>\n",
       "      <th>Amount</th>\n",
       "      <th>Class</th>\n",
       "    </tr>\n",
       "  </thead>\n",
       "  <tbody>\n",
       "    <tr>\n",
       "      <th>0</th>\n",
       "      <td>0.0</td>\n",
       "      <td>-1.359807</td>\n",
       "      <td>-0.072781</td>\n",
       "      <td>2.536347</td>\n",
       "      <td>1.378155</td>\n",
       "      <td>-0.338321</td>\n",
       "      <td>0.462388</td>\n",
       "      <td>0.239599</td>\n",
       "      <td>0.098698</td>\n",
       "      <td>0.363787</td>\n",
       "      <td>...</td>\n",
       "      <td>-0.018307</td>\n",
       "      <td>0.277838</td>\n",
       "      <td>-0.110474</td>\n",
       "      <td>0.066928</td>\n",
       "      <td>0.128539</td>\n",
       "      <td>-0.189115</td>\n",
       "      <td>0.133558</td>\n",
       "      <td>-0.021053</td>\n",
       "      <td>149.62</td>\n",
       "      <td>0</td>\n",
       "    </tr>\n",
       "    <tr>\n",
       "      <th>1</th>\n",
       "      <td>0.0</td>\n",
       "      <td>1.191857</td>\n",
       "      <td>0.266151</td>\n",
       "      <td>0.166480</td>\n",
       "      <td>0.448154</td>\n",
       "      <td>0.060018</td>\n",
       "      <td>-0.082361</td>\n",
       "      <td>-0.078803</td>\n",
       "      <td>0.085102</td>\n",
       "      <td>-0.255425</td>\n",
       "      <td>...</td>\n",
       "      <td>-0.225775</td>\n",
       "      <td>-0.638672</td>\n",
       "      <td>0.101288</td>\n",
       "      <td>-0.339846</td>\n",
       "      <td>0.167170</td>\n",
       "      <td>0.125895</td>\n",
       "      <td>-0.008983</td>\n",
       "      <td>0.014724</td>\n",
       "      <td>2.69</td>\n",
       "      <td>0</td>\n",
       "    </tr>\n",
       "    <tr>\n",
       "      <th>2</th>\n",
       "      <td>1.0</td>\n",
       "      <td>-1.358354</td>\n",
       "      <td>-1.340163</td>\n",
       "      <td>1.773209</td>\n",
       "      <td>0.379780</td>\n",
       "      <td>-0.503198</td>\n",
       "      <td>1.800499</td>\n",
       "      <td>0.791461</td>\n",
       "      <td>0.247676</td>\n",
       "      <td>-1.514654</td>\n",
       "      <td>...</td>\n",
       "      <td>0.247998</td>\n",
       "      <td>0.771679</td>\n",
       "      <td>0.909412</td>\n",
       "      <td>-0.689281</td>\n",
       "      <td>-0.327642</td>\n",
       "      <td>-0.139097</td>\n",
       "      <td>-0.055353</td>\n",
       "      <td>-0.059752</td>\n",
       "      <td>378.66</td>\n",
       "      <td>0</td>\n",
       "    </tr>\n",
       "    <tr>\n",
       "      <th>3</th>\n",
       "      <td>1.0</td>\n",
       "      <td>-0.966272</td>\n",
       "      <td>-0.185226</td>\n",
       "      <td>1.792993</td>\n",
       "      <td>-0.863291</td>\n",
       "      <td>-0.010309</td>\n",
       "      <td>1.247203</td>\n",
       "      <td>0.237609</td>\n",
       "      <td>0.377436</td>\n",
       "      <td>-1.387024</td>\n",
       "      <td>...</td>\n",
       "      <td>-0.108300</td>\n",
       "      <td>0.005274</td>\n",
       "      <td>-0.190321</td>\n",
       "      <td>-1.175575</td>\n",
       "      <td>0.647376</td>\n",
       "      <td>-0.221929</td>\n",
       "      <td>0.062723</td>\n",
       "      <td>0.061458</td>\n",
       "      <td>123.50</td>\n",
       "      <td>0</td>\n",
       "    </tr>\n",
       "    <tr>\n",
       "      <th>4</th>\n",
       "      <td>2.0</td>\n",
       "      <td>-1.158233</td>\n",
       "      <td>0.877737</td>\n",
       "      <td>1.548718</td>\n",
       "      <td>0.403034</td>\n",
       "      <td>-0.407193</td>\n",
       "      <td>0.095921</td>\n",
       "      <td>0.592941</td>\n",
       "      <td>-0.270533</td>\n",
       "      <td>0.817739</td>\n",
       "      <td>...</td>\n",
       "      <td>-0.009431</td>\n",
       "      <td>0.798278</td>\n",
       "      <td>-0.137458</td>\n",
       "      <td>0.141267</td>\n",
       "      <td>-0.206010</td>\n",
       "      <td>0.502292</td>\n",
       "      <td>0.219422</td>\n",
       "      <td>0.215153</td>\n",
       "      <td>69.99</td>\n",
       "      <td>0</td>\n",
       "    </tr>\n",
       "  </tbody>\n",
       "</table>\n",
       "<p>5 rows × 31 columns</p>\n",
       "</div>"
      ],
      "text/plain": [
       "   Time        V1        V2        V3        V4        V5        V6        V7  \\\n",
       "0   0.0 -1.359807 -0.072781  2.536347  1.378155 -0.338321  0.462388  0.239599   \n",
       "1   0.0  1.191857  0.266151  0.166480  0.448154  0.060018 -0.082361 -0.078803   \n",
       "2   1.0 -1.358354 -1.340163  1.773209  0.379780 -0.503198  1.800499  0.791461   \n",
       "3   1.0 -0.966272 -0.185226  1.792993 -0.863291 -0.010309  1.247203  0.237609   \n",
       "4   2.0 -1.158233  0.877737  1.548718  0.403034 -0.407193  0.095921  0.592941   \n",
       "\n",
       "         V8        V9  ...         V21       V22       V23       V24  \\\n",
       "0  0.098698  0.363787  ...   -0.018307  0.277838 -0.110474  0.066928   \n",
       "1  0.085102 -0.255425  ...   -0.225775 -0.638672  0.101288 -0.339846   \n",
       "2  0.247676 -1.514654  ...    0.247998  0.771679  0.909412 -0.689281   \n",
       "3  0.377436 -1.387024  ...   -0.108300  0.005274 -0.190321 -1.175575   \n",
       "4 -0.270533  0.817739  ...   -0.009431  0.798278 -0.137458  0.141267   \n",
       "\n",
       "        V25       V26       V27       V28  Amount  Class  \n",
       "0  0.128539 -0.189115  0.133558 -0.021053  149.62      0  \n",
       "1  0.167170  0.125895 -0.008983  0.014724    2.69      0  \n",
       "2 -0.327642 -0.139097 -0.055353 -0.059752  378.66      0  \n",
       "3  0.647376 -0.221929  0.062723  0.061458  123.50      0  \n",
       "4 -0.206010  0.502292  0.219422  0.215153   69.99      0  \n",
       "\n",
       "[5 rows x 31 columns]"
      ]
     },
     "execution_count": 2,
     "metadata": {},
     "output_type": "execute_result"
    }
   ],
   "source": [
    "df_creditcard = pd.read_csv('creditcard.csv', \",\")\n",
    "df_creditcard.head()"
   ]
  },
  {
   "cell_type": "code",
   "execution_count": 3,
   "metadata": {
    "collapsed": false
   },
   "outputs": [
    {
     "data": {
      "text/html": [
       "<div>\n",
       "<table border=\"1\" class=\"dataframe\">\n",
       "  <thead>\n",
       "    <tr style=\"text-align: right;\">\n",
       "      <th></th>\n",
       "      <th>Time</th>\n",
       "      <th>V1</th>\n",
       "      <th>V2</th>\n",
       "      <th>V3</th>\n",
       "      <th>V4</th>\n",
       "      <th>V5</th>\n",
       "      <th>V6</th>\n",
       "      <th>V7</th>\n",
       "      <th>V8</th>\n",
       "      <th>V9</th>\n",
       "      <th>...</th>\n",
       "      <th>V21</th>\n",
       "      <th>V22</th>\n",
       "      <th>V23</th>\n",
       "      <th>V24</th>\n",
       "      <th>V25</th>\n",
       "      <th>V26</th>\n",
       "      <th>V27</th>\n",
       "      <th>V28</th>\n",
       "      <th>Amount</th>\n",
       "      <th>Class</th>\n",
       "    </tr>\n",
       "  </thead>\n",
       "  <tbody>\n",
       "    <tr>\n",
       "      <th>count</th>\n",
       "      <td>284807.000000</td>\n",
       "      <td>2.848070e+05</td>\n",
       "      <td>2.848070e+05</td>\n",
       "      <td>2.848070e+05</td>\n",
       "      <td>2.848070e+05</td>\n",
       "      <td>2.848070e+05</td>\n",
       "      <td>2.848070e+05</td>\n",
       "      <td>2.848070e+05</td>\n",
       "      <td>2.848070e+05</td>\n",
       "      <td>2.848070e+05</td>\n",
       "      <td>...</td>\n",
       "      <td>2.848070e+05</td>\n",
       "      <td>2.848070e+05</td>\n",
       "      <td>2.848070e+05</td>\n",
       "      <td>2.848070e+05</td>\n",
       "      <td>2.848070e+05</td>\n",
       "      <td>2.848070e+05</td>\n",
       "      <td>2.848070e+05</td>\n",
       "      <td>2.848070e+05</td>\n",
       "      <td>284807.000000</td>\n",
       "      <td>284807.000000</td>\n",
       "    </tr>\n",
       "    <tr>\n",
       "      <th>mean</th>\n",
       "      <td>94813.859575</td>\n",
       "      <td>3.919560e-15</td>\n",
       "      <td>5.688174e-16</td>\n",
       "      <td>-8.769071e-15</td>\n",
       "      <td>2.782312e-15</td>\n",
       "      <td>-1.552563e-15</td>\n",
       "      <td>2.010663e-15</td>\n",
       "      <td>-1.694249e-15</td>\n",
       "      <td>-1.927028e-16</td>\n",
       "      <td>-3.137024e-15</td>\n",
       "      <td>...</td>\n",
       "      <td>1.537294e-16</td>\n",
       "      <td>7.959909e-16</td>\n",
       "      <td>5.367590e-16</td>\n",
       "      <td>4.458112e-15</td>\n",
       "      <td>1.453003e-15</td>\n",
       "      <td>1.699104e-15</td>\n",
       "      <td>-3.660161e-16</td>\n",
       "      <td>-1.206049e-16</td>\n",
       "      <td>88.349619</td>\n",
       "      <td>0.001727</td>\n",
       "    </tr>\n",
       "    <tr>\n",
       "      <th>std</th>\n",
       "      <td>47488.145955</td>\n",
       "      <td>1.958696e+00</td>\n",
       "      <td>1.651309e+00</td>\n",
       "      <td>1.516255e+00</td>\n",
       "      <td>1.415869e+00</td>\n",
       "      <td>1.380247e+00</td>\n",
       "      <td>1.332271e+00</td>\n",
       "      <td>1.237094e+00</td>\n",
       "      <td>1.194353e+00</td>\n",
       "      <td>1.098632e+00</td>\n",
       "      <td>...</td>\n",
       "      <td>7.345240e-01</td>\n",
       "      <td>7.257016e-01</td>\n",
       "      <td>6.244603e-01</td>\n",
       "      <td>6.056471e-01</td>\n",
       "      <td>5.212781e-01</td>\n",
       "      <td>4.822270e-01</td>\n",
       "      <td>4.036325e-01</td>\n",
       "      <td>3.300833e-01</td>\n",
       "      <td>250.120109</td>\n",
       "      <td>0.041527</td>\n",
       "    </tr>\n",
       "    <tr>\n",
       "      <th>min</th>\n",
       "      <td>0.000000</td>\n",
       "      <td>-5.640751e+01</td>\n",
       "      <td>-7.271573e+01</td>\n",
       "      <td>-4.832559e+01</td>\n",
       "      <td>-5.683171e+00</td>\n",
       "      <td>-1.137433e+02</td>\n",
       "      <td>-2.616051e+01</td>\n",
       "      <td>-4.355724e+01</td>\n",
       "      <td>-7.321672e+01</td>\n",
       "      <td>-1.343407e+01</td>\n",
       "      <td>...</td>\n",
       "      <td>-3.483038e+01</td>\n",
       "      <td>-1.093314e+01</td>\n",
       "      <td>-4.480774e+01</td>\n",
       "      <td>-2.836627e+00</td>\n",
       "      <td>-1.029540e+01</td>\n",
       "      <td>-2.604551e+00</td>\n",
       "      <td>-2.256568e+01</td>\n",
       "      <td>-1.543008e+01</td>\n",
       "      <td>0.000000</td>\n",
       "      <td>0.000000</td>\n",
       "    </tr>\n",
       "    <tr>\n",
       "      <th>25%</th>\n",
       "      <td>54201.500000</td>\n",
       "      <td>-9.203734e-01</td>\n",
       "      <td>-5.985499e-01</td>\n",
       "      <td>-8.903648e-01</td>\n",
       "      <td>-8.486401e-01</td>\n",
       "      <td>-6.915971e-01</td>\n",
       "      <td>-7.682956e-01</td>\n",
       "      <td>-5.540759e-01</td>\n",
       "      <td>-2.086297e-01</td>\n",
       "      <td>-6.430976e-01</td>\n",
       "      <td>...</td>\n",
       "      <td>-2.283949e-01</td>\n",
       "      <td>-5.423504e-01</td>\n",
       "      <td>-1.618463e-01</td>\n",
       "      <td>-3.545861e-01</td>\n",
       "      <td>-3.171451e-01</td>\n",
       "      <td>-3.269839e-01</td>\n",
       "      <td>-7.083953e-02</td>\n",
       "      <td>-5.295979e-02</td>\n",
       "      <td>5.600000</td>\n",
       "      <td>0.000000</td>\n",
       "    </tr>\n",
       "    <tr>\n",
       "      <th>50%</th>\n",
       "      <td>84692.000000</td>\n",
       "      <td>1.810880e-02</td>\n",
       "      <td>6.548556e-02</td>\n",
       "      <td>1.798463e-01</td>\n",
       "      <td>-1.984653e-02</td>\n",
       "      <td>-5.433583e-02</td>\n",
       "      <td>-2.741871e-01</td>\n",
       "      <td>4.010308e-02</td>\n",
       "      <td>2.235804e-02</td>\n",
       "      <td>-5.142873e-02</td>\n",
       "      <td>...</td>\n",
       "      <td>-2.945017e-02</td>\n",
       "      <td>6.781943e-03</td>\n",
       "      <td>-1.119293e-02</td>\n",
       "      <td>4.097606e-02</td>\n",
       "      <td>1.659350e-02</td>\n",
       "      <td>-5.213911e-02</td>\n",
       "      <td>1.342146e-03</td>\n",
       "      <td>1.124383e-02</td>\n",
       "      <td>22.000000</td>\n",
       "      <td>0.000000</td>\n",
       "    </tr>\n",
       "    <tr>\n",
       "      <th>75%</th>\n",
       "      <td>139320.500000</td>\n",
       "      <td>1.315642e+00</td>\n",
       "      <td>8.037239e-01</td>\n",
       "      <td>1.027196e+00</td>\n",
       "      <td>7.433413e-01</td>\n",
       "      <td>6.119264e-01</td>\n",
       "      <td>3.985649e-01</td>\n",
       "      <td>5.704361e-01</td>\n",
       "      <td>3.273459e-01</td>\n",
       "      <td>5.971390e-01</td>\n",
       "      <td>...</td>\n",
       "      <td>1.863772e-01</td>\n",
       "      <td>5.285536e-01</td>\n",
       "      <td>1.476421e-01</td>\n",
       "      <td>4.395266e-01</td>\n",
       "      <td>3.507156e-01</td>\n",
       "      <td>2.409522e-01</td>\n",
       "      <td>9.104512e-02</td>\n",
       "      <td>7.827995e-02</td>\n",
       "      <td>77.165000</td>\n",
       "      <td>0.000000</td>\n",
       "    </tr>\n",
       "    <tr>\n",
       "      <th>max</th>\n",
       "      <td>172792.000000</td>\n",
       "      <td>2.454930e+00</td>\n",
       "      <td>2.205773e+01</td>\n",
       "      <td>9.382558e+00</td>\n",
       "      <td>1.687534e+01</td>\n",
       "      <td>3.480167e+01</td>\n",
       "      <td>7.330163e+01</td>\n",
       "      <td>1.205895e+02</td>\n",
       "      <td>2.000721e+01</td>\n",
       "      <td>1.559499e+01</td>\n",
       "      <td>...</td>\n",
       "      <td>2.720284e+01</td>\n",
       "      <td>1.050309e+01</td>\n",
       "      <td>2.252841e+01</td>\n",
       "      <td>4.584549e+00</td>\n",
       "      <td>7.519589e+00</td>\n",
       "      <td>3.517346e+00</td>\n",
       "      <td>3.161220e+01</td>\n",
       "      <td>3.384781e+01</td>\n",
       "      <td>25691.160000</td>\n",
       "      <td>1.000000</td>\n",
       "    </tr>\n",
       "  </tbody>\n",
       "</table>\n",
       "<p>8 rows × 31 columns</p>\n",
       "</div>"
      ],
      "text/plain": [
       "                Time            V1            V2            V3            V4  \\\n",
       "count  284807.000000  2.848070e+05  2.848070e+05  2.848070e+05  2.848070e+05   \n",
       "mean    94813.859575  3.919560e-15  5.688174e-16 -8.769071e-15  2.782312e-15   \n",
       "std     47488.145955  1.958696e+00  1.651309e+00  1.516255e+00  1.415869e+00   \n",
       "min         0.000000 -5.640751e+01 -7.271573e+01 -4.832559e+01 -5.683171e+00   \n",
       "25%     54201.500000 -9.203734e-01 -5.985499e-01 -8.903648e-01 -8.486401e-01   \n",
       "50%     84692.000000  1.810880e-02  6.548556e-02  1.798463e-01 -1.984653e-02   \n",
       "75%    139320.500000  1.315642e+00  8.037239e-01  1.027196e+00  7.433413e-01   \n",
       "max    172792.000000  2.454930e+00  2.205773e+01  9.382558e+00  1.687534e+01   \n",
       "\n",
       "                 V5            V6            V7            V8            V9  \\\n",
       "count  2.848070e+05  2.848070e+05  2.848070e+05  2.848070e+05  2.848070e+05   \n",
       "mean  -1.552563e-15  2.010663e-15 -1.694249e-15 -1.927028e-16 -3.137024e-15   \n",
       "std    1.380247e+00  1.332271e+00  1.237094e+00  1.194353e+00  1.098632e+00   \n",
       "min   -1.137433e+02 -2.616051e+01 -4.355724e+01 -7.321672e+01 -1.343407e+01   \n",
       "25%   -6.915971e-01 -7.682956e-01 -5.540759e-01 -2.086297e-01 -6.430976e-01   \n",
       "50%   -5.433583e-02 -2.741871e-01  4.010308e-02  2.235804e-02 -5.142873e-02   \n",
       "75%    6.119264e-01  3.985649e-01  5.704361e-01  3.273459e-01  5.971390e-01   \n",
       "max    3.480167e+01  7.330163e+01  1.205895e+02  2.000721e+01  1.559499e+01   \n",
       "\n",
       "           ...                 V21           V22           V23           V24  \\\n",
       "count      ...        2.848070e+05  2.848070e+05  2.848070e+05  2.848070e+05   \n",
       "mean       ...        1.537294e-16  7.959909e-16  5.367590e-16  4.458112e-15   \n",
       "std        ...        7.345240e-01  7.257016e-01  6.244603e-01  6.056471e-01   \n",
       "min        ...       -3.483038e+01 -1.093314e+01 -4.480774e+01 -2.836627e+00   \n",
       "25%        ...       -2.283949e-01 -5.423504e-01 -1.618463e-01 -3.545861e-01   \n",
       "50%        ...       -2.945017e-02  6.781943e-03 -1.119293e-02  4.097606e-02   \n",
       "75%        ...        1.863772e-01  5.285536e-01  1.476421e-01  4.395266e-01   \n",
       "max        ...        2.720284e+01  1.050309e+01  2.252841e+01  4.584549e+00   \n",
       "\n",
       "                V25           V26           V27           V28         Amount  \\\n",
       "count  2.848070e+05  2.848070e+05  2.848070e+05  2.848070e+05  284807.000000   \n",
       "mean   1.453003e-15  1.699104e-15 -3.660161e-16 -1.206049e-16      88.349619   \n",
       "std    5.212781e-01  4.822270e-01  4.036325e-01  3.300833e-01     250.120109   \n",
       "min   -1.029540e+01 -2.604551e+00 -2.256568e+01 -1.543008e+01       0.000000   \n",
       "25%   -3.171451e-01 -3.269839e-01 -7.083953e-02 -5.295979e-02       5.600000   \n",
       "50%    1.659350e-02 -5.213911e-02  1.342146e-03  1.124383e-02      22.000000   \n",
       "75%    3.507156e-01  2.409522e-01  9.104512e-02  7.827995e-02      77.165000   \n",
       "max    7.519589e+00  3.517346e+00  3.161220e+01  3.384781e+01   25691.160000   \n",
       "\n",
       "               Class  \n",
       "count  284807.000000  \n",
       "mean        0.001727  \n",
       "std         0.041527  \n",
       "min         0.000000  \n",
       "25%         0.000000  \n",
       "50%         0.000000  \n",
       "75%         0.000000  \n",
       "max         1.000000  \n",
       "\n",
       "[8 rows x 31 columns]"
      ]
     },
     "execution_count": 3,
     "metadata": {},
     "output_type": "execute_result"
    }
   ],
   "source": [
    "df_creditcard.describe()\n"
   ]
  },
  {
   "cell_type": "markdown",
   "metadata": {},
   "source": [
    "\n",
    "\n",
    "The dataset contains transactions made by cardholders. This dataset presents 284.807 transactions that occurred in two days.\n",
    "\n",
    "V(i) represent only numerical input , which are the principal components from the original dataset. The only features which have not been transformed with PCA are 'Time' and 'Amount'. Feature 'Time' contains the seconds elapsed between each transaction and the first transaction in the dataset. The feature 'Amount' is the transaction Amount. Feature 'Class' is the response variable and it takes value 1 in case of fraud and 0 otherwise. \n"
   ]
  },
  {
   "cell_type": "code",
   "execution_count": 4,
   "metadata": {
    "collapsed": false
   },
   "outputs": [],
   "source": [
    "classes = pd.value_counts(df_creditcard['Class'], sort = True).sort_index()\n"
   ]
  },
  {
   "cell_type": "code",
   "execution_count": 5,
   "metadata": {
    "collapsed": false
   },
   "outputs": [
    {
     "data": {
      "text/plain": [
       "0    284315\n",
       "1       492\n",
       "Name: Class, dtype: int64"
      ]
     },
     "execution_count": 5,
     "metadata": {},
     "output_type": "execute_result"
    }
   ],
   "source": [
    "classes\n"
   ]
  },
  {
   "cell_type": "code",
   "execution_count": 6,
   "metadata": {
    "collapsed": false
   },
   "outputs": [
    {
     "data": {
      "image/png": "[encoded data removed]",
      "text/plain": [
       "<matplotlib.figure.Figure at 0x11a01585400>"
      ]
     },
     "metadata": {},
     "output_type": "display_data"
    }
   ],
   "source": [
    "classes.plot(kind = 'bar')\n",
    "plt.title('Fraud')\n",
    "plt.title(\"Fraud class histogram\")\n",
    "plt.xlabel(\"Class\")\n",
    "plt.ylabel(\"Transactions\")\n",
    "plt.show()"
   ]
  },
  {
   "cell_type": "markdown",
   "metadata": {},
   "source": [
    "As we can see the dataset is highly unbalanced, only 492 cases of fraud over 284807 transactions."
   ]
  },
  {
   "cell_type": "markdown",
   "metadata": {},
   "source": [
    "The objectives of my project are: Build a model ables to classifie fraudolent transactions from non fraudolent transactions, with the lowest error. \n",
    "\n",
    "Find which are the main features \"V(i)\", that will help us to discover fraudolent transactions."
   ]
  },
  {
   "cell_type": "markdown",
   "metadata": {},
   "source": [
    "My intention is to create models using: Logistic Regression, SVMs, K-nearest neighbors. \n",
    "I'll apply cross validation for hyperparameter tuning on each different classification models.\n",
    "The main task here is to find  the best model for unbalanced dataset, where there is an overwhelming class.\n",
    "\n",
    "We will use the 'Recall' ration, 'ROC AUC', receiver operating characterisric area under the curve, and the accuracy ratio, for tuning our parameters, select the best model, evaluate the performance of each model.\n"
   ]
  },
  {
   "cell_type": "code",
   "execution_count": 3,
   "metadata": {
    "collapsed": false
   },
   "outputs": [
    {
     "data": {
      "text/html": [
       "<div>\n",
       "<table border=\"1\" class=\"dataframe\">\n",
       "  <thead>\n",
       "    <tr style=\"text-align: right;\">\n",
       "      <th></th>\n",
       "      <th>V1</th>\n",
       "      <th>V2</th>\n",
       "      <th>V3</th>\n",
       "      <th>V4</th>\n",
       "      <th>V5</th>\n",
       "      <th>V6</th>\n",
       "      <th>V7</th>\n",
       "      <th>V8</th>\n",
       "      <th>V9</th>\n",
       "      <th>V10</th>\n",
       "      <th>...</th>\n",
       "      <th>V21</th>\n",
       "      <th>V22</th>\n",
       "      <th>V23</th>\n",
       "      <th>V24</th>\n",
       "      <th>V25</th>\n",
       "      <th>V26</th>\n",
       "      <th>V27</th>\n",
       "      <th>V28</th>\n",
       "      <th>Class</th>\n",
       "      <th>normAmount</th>\n",
       "    </tr>\n",
       "  </thead>\n",
       "  <tbody>\n",
       "    <tr>\n",
       "      <th>0</th>\n",
       "      <td>-1.359807</td>\n",
       "      <td>-0.072781</td>\n",
       "      <td>2.536347</td>\n",
       "      <td>1.378155</td>\n",
       "      <td>-0.338321</td>\n",
       "      <td>0.462388</td>\n",
       "      <td>0.239599</td>\n",
       "      <td>0.098698</td>\n",
       "      <td>0.363787</td>\n",
       "      <td>0.090794</td>\n",
       "      <td>...</td>\n",
       "      <td>-0.018307</td>\n",
       "      <td>0.277838</td>\n",
       "      <td>-0.110474</td>\n",
       "      <td>0.066928</td>\n",
       "      <td>0.128539</td>\n",
       "      <td>-0.189115</td>\n",
       "      <td>0.133558</td>\n",
       "      <td>-0.021053</td>\n",
       "      <td>0</td>\n",
       "      <td>0.244964</td>\n",
       "    </tr>\n",
       "    <tr>\n",
       "      <th>1</th>\n",
       "      <td>1.191857</td>\n",
       "      <td>0.266151</td>\n",
       "      <td>0.166480</td>\n",
       "      <td>0.448154</td>\n",
       "      <td>0.060018</td>\n",
       "      <td>-0.082361</td>\n",
       "      <td>-0.078803</td>\n",
       "      <td>0.085102</td>\n",
       "      <td>-0.255425</td>\n",
       "      <td>-0.166974</td>\n",
       "      <td>...</td>\n",
       "      <td>-0.225775</td>\n",
       "      <td>-0.638672</td>\n",
       "      <td>0.101288</td>\n",
       "      <td>-0.339846</td>\n",
       "      <td>0.167170</td>\n",
       "      <td>0.125895</td>\n",
       "      <td>-0.008983</td>\n",
       "      <td>0.014724</td>\n",
       "      <td>0</td>\n",
       "      <td>-0.342475</td>\n",
       "    </tr>\n",
       "    <tr>\n",
       "      <th>2</th>\n",
       "      <td>-1.358354</td>\n",
       "      <td>-1.340163</td>\n",
       "      <td>1.773209</td>\n",
       "      <td>0.379780</td>\n",
       "      <td>-0.503198</td>\n",
       "      <td>1.800499</td>\n",
       "      <td>0.791461</td>\n",
       "      <td>0.247676</td>\n",
       "      <td>-1.514654</td>\n",
       "      <td>0.207643</td>\n",
       "      <td>...</td>\n",
       "      <td>0.247998</td>\n",
       "      <td>0.771679</td>\n",
       "      <td>0.909412</td>\n",
       "      <td>-0.689281</td>\n",
       "      <td>-0.327642</td>\n",
       "      <td>-0.139097</td>\n",
       "      <td>-0.055353</td>\n",
       "      <td>-0.059752</td>\n",
       "      <td>0</td>\n",
       "      <td>1.160686</td>\n",
       "    </tr>\n",
       "    <tr>\n",
       "      <th>3</th>\n",
       "      <td>-0.966272</td>\n",
       "      <td>-0.185226</td>\n",
       "      <td>1.792993</td>\n",
       "      <td>-0.863291</td>\n",
       "      <td>-0.010309</td>\n",
       "      <td>1.247203</td>\n",
       "      <td>0.237609</td>\n",
       "      <td>0.377436</td>\n",
       "      <td>-1.387024</td>\n",
       "      <td>-0.054952</td>\n",
       "      <td>...</td>\n",
       "      <td>-0.108300</td>\n",
       "      <td>0.005274</td>\n",
       "      <td>-0.190321</td>\n",
       "      <td>-1.175575</td>\n",
       "      <td>0.647376</td>\n",
       "      <td>-0.221929</td>\n",
       "      <td>0.062723</td>\n",
       "      <td>0.061458</td>\n",
       "      <td>0</td>\n",
       "      <td>0.140534</td>\n",
       "    </tr>\n",
       "    <tr>\n",
       "      <th>4</th>\n",
       "      <td>-1.158233</td>\n",
       "      <td>0.877737</td>\n",
       "      <td>1.548718</td>\n",
       "      <td>0.403034</td>\n",
       "      <td>-0.407193</td>\n",
       "      <td>0.095921</td>\n",
       "      <td>0.592941</td>\n",
       "      <td>-0.270533</td>\n",
       "      <td>0.817739</td>\n",
       "      <td>0.753074</td>\n",
       "      <td>...</td>\n",
       "      <td>-0.009431</td>\n",
       "      <td>0.798278</td>\n",
       "      <td>-0.137458</td>\n",
       "      <td>0.141267</td>\n",
       "      <td>-0.206010</td>\n",
       "      <td>0.502292</td>\n",
       "      <td>0.219422</td>\n",
       "      <td>0.215153</td>\n",
       "      <td>0</td>\n",
       "      <td>-0.073403</td>\n",
       "    </tr>\n",
       "  </tbody>\n",
       "</table>\n",
       "<p>5 rows × 30 columns</p>\n",
       "</div>"
      ],
      "text/plain": [
       "         V1        V2        V3        V4        V5        V6        V7  \\\n",
       "0 -1.359807 -0.072781  2.536347  1.378155 -0.338321  0.462388  0.239599   \n",
       "1  1.191857  0.266151  0.166480  0.448154  0.060018 -0.082361 -0.078803   \n",
       "2 -1.358354 -1.340163  1.773209  0.379780 -0.503198  1.800499  0.791461   \n",
       "3 -0.966272 -0.185226  1.792993 -0.863291 -0.010309  1.247203  0.237609   \n",
       "4 -1.158233  0.877737  1.548718  0.403034 -0.407193  0.095921  0.592941   \n",
       "\n",
       "         V8        V9       V10     ...           V21       V22       V23  \\\n",
       "0  0.098698  0.363787  0.090794     ...     -0.018307  0.277838 -0.110474   \n",
       "1  0.085102 -0.255425 -0.166974     ...     -0.225775 -0.638672  0.101288   \n",
       "2  0.247676 -1.514654  0.207643     ...      0.247998  0.771679  0.909412   \n",
       "3  0.377436 -1.387024 -0.054952     ...     -0.108300  0.005274 -0.190321   \n",
       "4 -0.270533  0.817739  0.753074     ...     -0.009431  0.798278 -0.137458   \n",
       "\n",
       "        V24       V25       V26       V27       V28  Class  normAmount  \n",
       "0  0.066928  0.128539 -0.189115  0.133558 -0.021053      0    0.244964  \n",
       "1 -0.339846  0.167170  0.125895 -0.008983  0.014724      0   -0.342475  \n",
       "2 -0.689281 -0.327642 -0.139097 -0.055353 -0.059752      0    1.160686  \n",
       "3 -1.175575  0.647376 -0.221929  0.062723  0.061458      0    0.140534  \n",
       "4  0.141267 -0.206010  0.502292  0.219422  0.215153      0   -0.073403  \n",
       "\n",
       "[5 rows x 30 columns]"
      ]
     },
     "execution_count": 3,
     "metadata": {},
     "output_type": "execute_result"
    }
   ],
   "source": [
    "from sklearn.preprocessing import StandardScaler\n",
    "df_creditcard['normAmount'] = StandardScaler().fit_transform(df_creditcard['Amount'].values.reshape(-1, 1))\n",
    "df_creditcard = df_creditcard.drop(['Time','Amount'],axis=1)\n",
    "df_creditcard.head()"
   ]
  },
  {
   "cell_type": "markdown",
   "metadata": {},
   "source": [
    "Divide the sample into dependente variable y ( Class) and independent variable X"
   ]
  },
  {
   "cell_type": "code",
   "execution_count": 4,
   "metadata": {
    "collapsed": true
   },
   "outputs": [],
   "source": [
    "y = (df_creditcard['Class'].values)\n",
    "X = df_creditcard.drop(['Class'], axis=1)"
   ]
  },
  {
   "cell_type": "markdown",
   "metadata": {},
   "source": [
    "From the histograms of each feature, we can see that:'V1,V14,V16,V17,V2,V20,V21,V23,V25,V27,V28, V5,V6,V7,V8, NormAmount' are the less helpfull characteristics for predicting fraud transactions. They have the same distributions as the Class distribution."
   ]
  },
  {
   "cell_type": "code",
   "execution_count": 9,
   "metadata": {
    "collapsed": false
   },
   "outputs": [
    {
     "data": {
      "image/png": "[encoded data removed]",
      "text/plain": [
       "<matplotlib.figure.Figure at 0x11a01676b00>"
      ]
     },
     "metadata": {},
     "output_type": "display_data"
    }
   ],
   "source": [
    "df_creditcard.hist(sharex = False, sharey = False, xlabelsize = 1, ylabelsize = 1)\n",
    "pyplot.show()"
   ]
  },
  {
   "cell_type": "markdown",
   "metadata": {},
   "source": [
    "Standardaize the values of the independent variable X"
   ]
  },
  {
   "cell_type": "code",
   "execution_count": 5,
   "metadata": {
    "collapsed": true
   },
   "outputs": [],
   "source": [
    "stdsc = StandardScaler()\n",
    "X_std = stdsc.fit_transform(X)"
   ]
  },
  {
   "cell_type": "markdown",
   "metadata": {},
   "source": [
    "Divide the sample into train set and test set"
   ]
  },
  {
   "cell_type": "code",
   "execution_count": 6,
   "metadata": {
    "collapsed": true
   },
   "outputs": [],
   "source": [
    "from sklearn.model_selection import train_test_split\n",
    "X_std_train, X_std_test, y_train, y_test = \\\n",
    "train_test_split(X_std, y, test_size=0.3, random_state=0)"
   ]
  },
  {
   "cell_type": "markdown",
   "metadata": {},
   "source": [
    "Estimate the logistic function on the test set, we use the GridsearchCV for define the best value for the inverse regularization parameter 'C', which maximize the recall ratio."
   ]
  },
  {
   "cell_type": "code",
   "execution_count": 19,
   "metadata": {
    "collapsed": false
   },
   "outputs": [],
   "source": [
    "from sklearn.linear_model import LogisticRegression\n",
    "from sklearn.pipeline import Pipeline\n",
    "from sklearn.model_selection import GridSearchCV\n",
    "pipe_lr = Pipeline([('scl', StandardScaler()),\n",
    "                     ('clf', LogisticRegression(random_state=0))])\n",
    "param_range = np.logspace(-1, 3, 15)\n",
    "param_grid = [{'clf__C': param_range}]\n",
    "gs = GridSearchCV(estimator= pipe_lr,\n",
    "                  param_grid=param_grid,\n",
    "                  scoring='recall',\n",
    "                  cv=10,\n",
    "                  n_jobs=-1)\n",
    "gs = gs.fit(X_std_train, y_train)\n",
    "gs_b=gs.best_params_"
   ]
  },
  {
   "cell_type": "code",
   "execution_count": 20,
   "metadata": {
    "collapsed": false
   },
   "outputs": [
    {
     "name": "stdout",
     "output_type": "stream",
     "text": [
      "0.620503845085\n",
      "{'clf__C': 2.6826957952797246}\n"
     ]
    }
   ],
   "source": [
    "print(gs.best_score_)\n",
    "print(gs.best_params_)"
   ]
  },
  {
   "cell_type": "code",
   "execution_count": 15,
   "metadata": {
    "collapsed": false
   },
   "outputs": [],
   "source": [
    "lr = LogisticRegression(C=2.68, random_state=0)\n",
    "lr.fit(X_std_train, y_train)\n",
    "lr_train_pred=lr.predict(X_std_train)\n",
    "lr_test_pred= lr.predict(X_std_test)"
   ]
  },
  {
   "cell_type": "markdown",
   "metadata": {},
   "source": [
    "Calculate the residual sum of square of the training set and for the test set"
   ]
  },
  {
   "cell_type": "code",
   "execution_count": 16,
   "metadata": {
    "collapsed": false
   },
   "outputs": [
    {
     "name": "stdout",
     "output_type": "stream",
     "text": [
      "159 68\n"
     ]
    }
   ],
   "source": [
    "rss_train=sum((lr_train_pred-y_train)*(lr_train_pred-y_train))\n",
    "rss_test=sum((lr_test_pred-y_test)*(lr_test_pred-y_test))\n",
    "print(rss_train,rss_test)"
   ]
  },
  {
   "cell_type": "code",
   "execution_count": 17,
   "metadata": {
    "collapsed": false
   },
   "outputs": [
    {
     "name": "stdout",
     "output_type": "stream",
     "text": [
      "LogisticRegression\n",
      "Train Accuracy: 0.999 Test Accuracy:0.999\n",
      "Train MSE: 0.001 Test MSE: 0.001\n"
     ]
    }
   ],
   "source": [
    "from sklearn.metrics import mean_squared_error,accuracy_score\n",
    "print('LogisticRegression\\nTrain Accuracy: %.3f Test Accuracy:%.3f'%(accuracy_score(y_train,lr_train_pred),\n",
    "accuracy_score(y_test,lr_test_pred)))\n",
    "print('Train MSE: %.3f Test MSE: %.3f'%(mean_squared_error(y_train,lr_train_pred),mean_squared_error(y_test,lr_test_pred)))"
   ]
  },
  {
   "cell_type": "code",
   "execution_count": 18,
   "metadata": {
    "collapsed": false
   },
   "outputs": [
    {
     "data": {
      "image/png": "[encoded data removed]",
      "text/plain": [
       "<matplotlib.figure.Figure at 0x11a01d6ea58>"
      ]
     },
     "metadata": {},
     "output_type": "display_data"
    }
   ],
   "source": [
    "from sklearn.metrics import confusion_matrix\n",
    "\n",
    "confmat = confusion_matrix(y_true=y_test, y_pred=lr_test_pred)\n",
    "\n",
    "fig, ax = plt.subplots(figsize=(2.5, 2.5))\n",
    "ax.matshow(confmat, cmap=plt.cm.Blues, alpha=0.3)\n",
    "for i in range(confmat.shape[0]):\n",
    "    for j in range(confmat.shape[1]):\n",
    "        ax.text(x=j, y=i,\n",
    "                s=confmat[i, j],\n",
    "                va='center', ha='center')\n",
    "plt.xlabel('predicted label')\n",
    "plt.ylabel('true label')\n",
    "plt.show()"
   ]
  },
  {
   "cell_type": "code",
   "execution_count": 19,
   "metadata": {
    "collapsed": false
   },
   "outputs": [
    {
     "data": {
      "text/plain": [
       "0.38095238095238093"
      ]
     },
     "execution_count": 19,
     "metadata": {},
     "output_type": "execute_result"
    }
   ],
   "source": [
    "result=np.matrix(confmat)\n",
    "ERR_fraud=(result[1,0])/(result[1,0]+result[1,1])\n",
    "ERR_fraud"
   ]
  },
  {
   "cell_type": "markdown",
   "metadata": {},
   "source": [
    "As we expected, for unbalance dataset, the accuracy ratio is very high.\n",
    "\n",
    "We can see, 56 over 147 fraudolent transactions are misclassified."
   ]
  },
  {
   "cell_type": "markdown",
   "metadata": {},
   "source": [
    "We want to reduce the misclassification error of the fraudolent transactions, let's try using Pipeline"
   ]
  },
  {
   "cell_type": "code",
   "execution_count": 20,
   "metadata": {
    "collapsed": false
   },
   "outputs": [
    {
     "name": "stdout",
     "output_type": "stream",
     "text": [
      "logistic Rgression Test Accuracy: 0.999\n"
     ]
    }
   ],
   "source": [
    "pipe_lr = Pipeline([('clf', LogisticRegression(random_state=1))])\n",
    "pipe_lr.fit(X_std_train, y_train)\n",
    "print('logistic Rgression Test Accuracy: %.3f' % pipe_lr.score(X_std_test, y_test))\n",
    "y_pred = pipe_lr.predict(X_std_test)"
   ]
  },
  {
   "cell_type": "code",
   "execution_count": 22,
   "metadata": {
    "collapsed": false
   },
   "outputs": [
    {
     "data": {
      "image/png": "[encoded data removed]",
      "text/plain": [
       "<matplotlib.figure.Figure at 0x11a0151c438>"
      ]
     },
     "metadata": {},
     "output_type": "display_data"
    }
   ],
   "source": [
    "confmat = confusion_matrix(y_true=y_test, y_pred=y_pred)\n",
    "\n",
    "fig, ax = plt.subplots(figsize=(2.5, 2.5))\n",
    "ax.matshow(confmat, cmap=plt.cm.Blues, alpha=0.3)\n",
    "for i in range(confmat.shape[0]):\n",
    "    for j in range(confmat.shape[1]):\n",
    "        ax.text(x=j, y=i,\n",
    "                s=confmat[i, j],\n",
    "                va='center', ha='center')\n",
    "plt.xlabel('predicted label')\n",
    "plt.ylabel('true label')\n",
    "plt.show()"
   ]
  },
  {
   "cell_type": "code",
   "execution_count": 23,
   "metadata": {
    "collapsed": false
   },
   "outputs": [
    {
     "data": {
      "text/plain": [
       "0.38095238095238093"
      ]
     },
     "execution_count": 23,
     "metadata": {},
     "output_type": "execute_result"
    }
   ],
   "source": [
    "result=np.matrix(confmat)\n",
    "\n",
    "\n",
    "ERR_fraud=(result[1,0])/(result[1,0]+result[1,1])\n",
    "ERR_fraud\n"
   ]
  },
  {
   "cell_type": "markdown",
   "metadata": {},
   "source": [
    "Pipeline doesn't perform better than Scikit learn logistic regression"
   ]
  },
  {
   "cell_type": "markdown",
   "metadata": {},
   "source": [
    "Let's try to estimate a Logistic regression on the undersample of the data. An undersample, is a smaller sample from the original dataset, with the same number of fraudolent transactions, of the original one, and a proportional number of non-fraudolent transactions. In this way we stress the featers that help us to recognize the fraudolent transactions."
   ]
  },
  {
   "cell_type": "markdown",
   "metadata": {},
   "source": [
    "The undersample of the data is made in a way that the non fraudolent transactions are 10 times the fraudolent transactions,  classes 10:1. "
   ]
  },
  {
   "cell_type": "code",
   "execution_count": 7,
   "metadata": {
    "collapsed": true
   },
   "outputs": [],
   "source": [
    "def undersample(df_creditcard, ratio=10):\n",
    "    fraud = df_creditcard[df_creditcard.Class == 1]\n",
    "    oth = df_creditcard[df_creditcard.Class == 0].sample(n=ratio*len(fraud))\n",
    "    return pd.concat([fraud, oth]).sample(frac=1) #shuffle the data\n",
    "df_creditcard_under = undersample (df_creditcard) #the undersample"
   ]
  },
  {
   "cell_type": "code",
   "execution_count": 25,
   "metadata": {
    "collapsed": false
   },
   "outputs": [
    {
     "name": "stdout",
     "output_type": "stream",
     "text": [
      "0    4920\n",
      "1     492\n",
      "Name: Class, dtype: int64\n"
     ]
    }
   ],
   "source": [
    "count_classes = pd.value_counts(df_creditcard_under['Class'], sort = True).sort_index()\n",
    "print(count_classes)"
   ]
  },
  {
   "cell_type": "markdown",
   "metadata": {},
   "source": [
    "The cell above shows the proportion between fraudolent transactions (class=1) and non fraudolent transactions (class=0)."
   ]
  },
  {
   "cell_type": "code",
   "execution_count": 8,
   "metadata": {
    "collapsed": true
   },
   "outputs": [],
   "source": [
    "y_u = df_creditcard_under.Class\n",
    "X_u= df_creditcard_under.drop('Class', axis=1)"
   ]
  },
  {
   "cell_type": "code",
   "execution_count": 9,
   "metadata": {
    "collapsed": false
   },
   "outputs": [
    {
     "data": {
      "text/html": [
       "<div>\n",
       "<table border=\"1\" class=\"dataframe\">\n",
       "  <thead>\n",
       "    <tr style=\"text-align: right;\">\n",
       "      <th></th>\n",
       "      <th>count</th>\n",
       "      <th>mean</th>\n",
       "      <th>std</th>\n",
       "      <th>min</th>\n",
       "      <th>25%</th>\n",
       "      <th>50%</th>\n",
       "      <th>75%</th>\n",
       "      <th>max</th>\n",
       "    </tr>\n",
       "  </thead>\n",
       "  <tbody>\n",
       "    <tr>\n",
       "      <th>0</th>\n",
       "      <td>5412.0</td>\n",
       "      <td>-2.057564e-17</td>\n",
       "      <td>1.000092</td>\n",
       "      <td>-11.454926</td>\n",
       "      <td>-0.230016</td>\n",
       "      <td>0.083570</td>\n",
       "      <td>0.554366</td>\n",
       "      <td>0.908046</td>\n",
       "    </tr>\n",
       "    <tr>\n",
       "      <th>1</th>\n",
       "      <td>5412.0</td>\n",
       "      <td>1.685233e-17</td>\n",
       "      <td>1.000092</td>\n",
       "      <td>-16.031229</td>\n",
       "      <td>-0.381916</td>\n",
       "      <td>-0.080857</td>\n",
       "      <td>0.289672</td>\n",
       "      <td>9.433286</td>\n",
       "    </tr>\n",
       "    <tr>\n",
       "      <th>2</th>\n",
       "      <td>5412.0</td>\n",
       "      <td>4.623365e-18</td>\n",
       "      <td>1.000092</td>\n",
       "      <td>-9.361948</td>\n",
       "      <td>-0.175092</td>\n",
       "      <td>0.206510</td>\n",
       "      <td>0.483210</td>\n",
       "      <td>1.366362</td>\n",
       "    </tr>\n",
       "    <tr>\n",
       "      <th>3</th>\n",
       "      <td>5412.0</td>\n",
       "      <td>2.004227e-17</td>\n",
       "      <td>1.000092</td>\n",
       "      <td>-2.436719</td>\n",
       "      <td>-0.578076</td>\n",
       "      <td>-0.129152</td>\n",
       "      <td>0.308733</td>\n",
       "      <td>5.665971</td>\n",
       "    </tr>\n",
       "    <tr>\n",
       "      <th>4</th>\n",
       "      <td>5412.0</td>\n",
       "      <td>-2.584264e-17</td>\n",
       "      <td>1.000092</td>\n",
       "      <td>-9.651313</td>\n",
       "      <td>-0.243059</td>\n",
       "      <td>0.067265</td>\n",
       "      <td>0.381071</td>\n",
       "      <td>10.895329</td>\n",
       "    </tr>\n",
       "    <tr>\n",
       "      <th>5</th>\n",
       "      <td>5412.0</td>\n",
       "      <td>-1.716774e-17</td>\n",
       "      <td>1.000092</td>\n",
       "      <td>-11.228374</td>\n",
       "      <td>-0.498918</td>\n",
       "      <td>-0.135738</td>\n",
       "      <td>0.335534</td>\n",
       "      <td>8.000875</td>\n",
       "    </tr>\n",
       "    <tr>\n",
       "      <th>6</th>\n",
       "      <td>5412.0</td>\n",
       "      <td>2.083207e-17</td>\n",
       "      <td>1.000092</td>\n",
       "      <td>-14.820516</td>\n",
       "      <td>-0.073296</td>\n",
       "      <td>0.160535</td>\n",
       "      <td>0.351414</td>\n",
       "      <td>5.826729</td>\n",
       "    </tr>\n",
       "    <tr>\n",
       "      <th>7</th>\n",
       "      <td>5412.0</td>\n",
       "      <td>1.080324e-17</td>\n",
       "      <td>1.000092</td>\n",
       "      <td>-17.698681</td>\n",
       "      <td>-0.107305</td>\n",
       "      <td>-0.000048</td>\n",
       "      <td>0.147275</td>\n",
       "      <td>8.600364</td>\n",
       "    </tr>\n",
       "    <tr>\n",
       "      <th>8</th>\n",
       "      <td>5412.0</td>\n",
       "      <td>-1.423678e-17</td>\n",
       "      <td>1.000092</td>\n",
       "      <td>-8.868139</td>\n",
       "      <td>-0.387262</td>\n",
       "      <td>0.071612</td>\n",
       "      <td>0.541405</td>\n",
       "      <td>4.989068</td>\n",
       "    </tr>\n",
       "    <tr>\n",
       "      <th>9</th>\n",
       "      <td>5412.0</td>\n",
       "      <td>3.251485e-18</td>\n",
       "      <td>1.000092</td>\n",
       "      <td>-9.896876</td>\n",
       "      <td>-0.079874</td>\n",
       "      <td>0.146282</td>\n",
       "      <td>0.362755</td>\n",
       "      <td>4.611896</td>\n",
       "    </tr>\n",
       "    <tr>\n",
       "      <th>10</th>\n",
       "      <td>5412.0</td>\n",
       "      <td>7.900492e-18</td>\n",
       "      <td>1.000092</td>\n",
       "      <td>-1.844778</td>\n",
       "      <td>-0.620630</td>\n",
       "      <td>-0.158713</td>\n",
       "      <td>0.376297</td>\n",
       "      <td>7.024155</td>\n",
       "    </tr>\n",
       "    <tr>\n",
       "      <th>11</th>\n",
       "      <td>5412.0</td>\n",
       "      <td>-1.066733e-17</td>\n",
       "      <td>1.000092</td>\n",
       "      <td>-7.372831</td>\n",
       "      <td>-0.026302</td>\n",
       "      <td>0.248853</td>\n",
       "      <td>0.461120</td>\n",
       "      <td>1.956349</td>\n",
       "    </tr>\n",
       "    <tr>\n",
       "      <th>12</th>\n",
       "      <td>5412.0</td>\n",
       "      <td>-3.446369e-18</td>\n",
       "      <td>1.000092</td>\n",
       "      <td>-3.614321</td>\n",
       "      <td>-0.673825</td>\n",
       "      <td>-0.010397</td>\n",
       "      <td>0.652429</td>\n",
       "      <td>3.572511</td>\n",
       "    </tr>\n",
       "    <tr>\n",
       "      <th>13</th>\n",
       "      <td>5412.0</td>\n",
       "      <td>-2.842228e-17</td>\n",
       "      <td>1.000092</td>\n",
       "      <td>-7.328666</td>\n",
       "      <td>0.013032</td>\n",
       "      <td>0.238969</td>\n",
       "      <td>0.421703</td>\n",
       "      <td>3.073201</td>\n",
       "    </tr>\n",
       "    <tr>\n",
       "      <th>14</th>\n",
       "      <td>5412.0</td>\n",
       "      <td>2.225780e-18</td>\n",
       "      <td>1.000092</td>\n",
       "      <td>-4.903555</td>\n",
       "      <td>-0.621293</td>\n",
       "      <td>0.052759</td>\n",
       "      <td>0.703960</td>\n",
       "      <td>5.309751</td>\n",
       "    </tr>\n",
       "    <tr>\n",
       "      <th>15</th>\n",
       "      <td>5412.0</td>\n",
       "      <td>2.277065e-18</td>\n",
       "      <td>1.000092</td>\n",
       "      <td>-7.425900</td>\n",
       "      <td>-0.140918</td>\n",
       "      <td>0.201893</td>\n",
       "      <td>0.462022</td>\n",
       "      <td>2.551298</td>\n",
       "    </tr>\n",
       "    <tr>\n",
       "      <th>16</th>\n",
       "      <td>5412.0</td>\n",
       "      <td>-2.528234e-17</td>\n",
       "      <td>1.000092</td>\n",
       "      <td>-8.363907</td>\n",
       "      <td>0.009914</td>\n",
       "      <td>0.167441</td>\n",
       "      <td>0.331273</td>\n",
       "      <td>2.500218</td>\n",
       "    </tr>\n",
       "    <tr>\n",
       "      <th>17</th>\n",
       "      <td>5412.0</td>\n",
       "      <td>-5.682405e-18</td>\n",
       "      <td>1.000092</td>\n",
       "      <td>-6.914073</td>\n",
       "      <td>-0.297916</td>\n",
       "      <td>0.107952</td>\n",
       "      <td>0.508960</td>\n",
       "      <td>2.949306</td>\n",
       "    </tr>\n",
       "    <tr>\n",
       "      <th>18</th>\n",
       "      <td>5412.0</td>\n",
       "      <td>-2.586315e-17</td>\n",
       "      <td>1.000092</td>\n",
       "      <td>-4.098279</td>\n",
       "      <td>-0.556301</td>\n",
       "      <td>-0.032001</td>\n",
       "      <td>0.523221</td>\n",
       "      <td>5.690888</td>\n",
       "    </tr>\n",
       "    <tr>\n",
       "      <th>19</th>\n",
       "      <td>5412.0</td>\n",
       "      <td>1.136481e-17</td>\n",
       "      <td>1.000092</td>\n",
       "      <td>-20.160127</td>\n",
       "      <td>-0.314604</td>\n",
       "      <td>-0.118867</td>\n",
       "      <td>0.161682</td>\n",
       "      <td>13.744240</td>\n",
       "    </tr>\n",
       "    <tr>\n",
       "      <th>20</th>\n",
       "      <td>5412.0</td>\n",
       "      <td>-4.923384e-19</td>\n",
       "      <td>1.000092</td>\n",
       "      <td>-16.664185</td>\n",
       "      <td>-0.215676</td>\n",
       "      <td>-0.053135</td>\n",
       "      <td>0.116926</td>\n",
       "      <td>19.770914</td>\n",
       "    </tr>\n",
       "    <tr>\n",
       "      <th>21</th>\n",
       "      <td>5412.0</td>\n",
       "      <td>3.655612e-17</td>\n",
       "      <td>1.000092</td>\n",
       "      <td>-10.729198</td>\n",
       "      <td>-0.654615</td>\n",
       "      <td>0.008892</td>\n",
       "      <td>0.665252</td>\n",
       "      <td>10.076331</td>\n",
       "    </tr>\n",
       "    <tr>\n",
       "      <th>22</th>\n",
       "      <td>5412.0</td>\n",
       "      <td>-1.019038e-17</td>\n",
       "      <td>1.000092</td>\n",
       "      <td>-25.258887</td>\n",
       "      <td>-0.226132</td>\n",
       "      <td>-0.013446</td>\n",
       "      <td>0.197132</td>\n",
       "      <td>12.737508</td>\n",
       "    </tr>\n",
       "    <tr>\n",
       "      <th>23</th>\n",
       "      <td>5412.0</td>\n",
       "      <td>1.056476e-17</td>\n",
       "      <td>1.000092</td>\n",
       "      <td>-4.144326</td>\n",
       "      <td>-0.597577</td>\n",
       "      <td>0.070919</td>\n",
       "      <td>0.728827</td>\n",
       "      <td>6.503826</td>\n",
       "    </tr>\n",
       "    <tr>\n",
       "      <th>24</th>\n",
       "      <td>5412.0</td>\n",
       "      <td>-2.929413e-17</td>\n",
       "      <td>1.000092</td>\n",
       "      <td>-8.802366</td>\n",
       "      <td>-0.586699</td>\n",
       "      <td>0.041732</td>\n",
       "      <td>0.634302</td>\n",
       "      <td>7.039122</td>\n",
       "    </tr>\n",
       "    <tr>\n",
       "      <th>25</th>\n",
       "      <td>5412.0</td>\n",
       "      <td>1.616511e-17</td>\n",
       "      <td>1.000092</td>\n",
       "      <td>-3.006573</td>\n",
       "      <td>-0.684575</td>\n",
       "      <td>-0.118134</td>\n",
       "      <td>0.508978</td>\n",
       "      <td>5.860027</td>\n",
       "    </tr>\n",
       "    <tr>\n",
       "      <th>26</th>\n",
       "      <td>5412.0</td>\n",
       "      <td>2.964287e-18</td>\n",
       "      <td>1.000092</td>\n",
       "      <td>-13.736412</td>\n",
       "      <td>-0.168884</td>\n",
       "      <td>-0.023165</td>\n",
       "      <td>0.183661</td>\n",
       "      <td>9.311299</td>\n",
       "    </tr>\n",
       "    <tr>\n",
       "      <th>27</th>\n",
       "      <td>5412.0</td>\n",
       "      <td>-1.238539e-17</td>\n",
       "      <td>1.000092</td>\n",
       "      <td>-16.112554</td>\n",
       "      <td>-0.204316</td>\n",
       "      <td>0.028550</td>\n",
       "      <td>0.295086</td>\n",
       "      <td>9.421040</td>\n",
       "    </tr>\n",
       "    <tr>\n",
       "      <th>28</th>\n",
       "      <td>5412.0</td>\n",
       "      <td>-2.585802e-17</td>\n",
       "      <td>1.000092</td>\n",
       "      <td>-0.381724</td>\n",
       "      <td>-0.360672</td>\n",
       "      <td>-0.286904</td>\n",
       "      <td>-0.028906</td>\n",
       "      <td>23.727662</td>\n",
       "    </tr>\n",
       "  </tbody>\n",
       "</table>\n",
       "</div>"
      ],
      "text/plain": [
       "     count          mean       std        min       25%       50%       75%  \\\n",
       "0   5412.0 -2.057564e-17  1.000092 -11.454926 -0.230016  0.083570  0.554366   \n",
       "1   5412.0  1.685233e-17  1.000092 -16.031229 -0.381916 -0.080857  0.289672   \n",
       "2   5412.0  4.623365e-18  1.000092  -9.361948 -0.175092  0.206510  0.483210   \n",
       "3   5412.0  2.004227e-17  1.000092  -2.436719 -0.578076 -0.129152  0.308733   \n",
       "4   5412.0 -2.584264e-17  1.000092  -9.651313 -0.243059  0.067265  0.381071   \n",
       "5   5412.0 -1.716774e-17  1.000092 -11.228374 -0.498918 -0.135738  0.335534   \n",
       "6   5412.0  2.083207e-17  1.000092 -14.820516 -0.073296  0.160535  0.351414   \n",
       "7   5412.0  1.080324e-17  1.000092 -17.698681 -0.107305 -0.000048  0.147275   \n",
       "8   5412.0 -1.423678e-17  1.000092  -8.868139 -0.387262  0.071612  0.541405   \n",
       "9   5412.0  3.251485e-18  1.000092  -9.896876 -0.079874  0.146282  0.362755   \n",
       "10  5412.0  7.900492e-18  1.000092  -1.844778 -0.620630 -0.158713  0.376297   \n",
       "11  5412.0 -1.066733e-17  1.000092  -7.372831 -0.026302  0.248853  0.461120   \n",
       "12  5412.0 -3.446369e-18  1.000092  -3.614321 -0.673825 -0.010397  0.652429   \n",
       "13  5412.0 -2.842228e-17  1.000092  -7.328666  0.013032  0.238969  0.421703   \n",
       "14  5412.0  2.225780e-18  1.000092  -4.903555 -0.621293  0.052759  0.703960   \n",
       "15  5412.0  2.277065e-18  1.000092  -7.425900 -0.140918  0.201893  0.462022   \n",
       "16  5412.0 -2.528234e-17  1.000092  -8.363907  0.009914  0.167441  0.331273   \n",
       "17  5412.0 -5.682405e-18  1.000092  -6.914073 -0.297916  0.107952  0.508960   \n",
       "18  5412.0 -2.586315e-17  1.000092  -4.098279 -0.556301 -0.032001  0.523221   \n",
       "19  5412.0  1.136481e-17  1.000092 -20.160127 -0.314604 -0.118867  0.161682   \n",
       "20  5412.0 -4.923384e-19  1.000092 -16.664185 -0.215676 -0.053135  0.116926   \n",
       "21  5412.0  3.655612e-17  1.000092 -10.729198 -0.654615  0.008892  0.665252   \n",
       "22  5412.0 -1.019038e-17  1.000092 -25.258887 -0.226132 -0.013446  0.197132   \n",
       "23  5412.0  1.056476e-17  1.000092  -4.144326 -0.597577  0.070919  0.728827   \n",
       "24  5412.0 -2.929413e-17  1.000092  -8.802366 -0.586699  0.041732  0.634302   \n",
       "25  5412.0  1.616511e-17  1.000092  -3.006573 -0.684575 -0.118134  0.508978   \n",
       "26  5412.0  2.964287e-18  1.000092 -13.736412 -0.168884 -0.023165  0.183661   \n",
       "27  5412.0 -1.238539e-17  1.000092 -16.112554 -0.204316  0.028550  0.295086   \n",
       "28  5412.0 -2.585802e-17  1.000092  -0.381724 -0.360672 -0.286904 -0.028906   \n",
       "\n",
       "          max  \n",
       "0    0.908046  \n",
       "1    9.433286  \n",
       "2    1.366362  \n",
       "3    5.665971  \n",
       "4   10.895329  \n",
       "5    8.000875  \n",
       "6    5.826729  \n",
       "7    8.600364  \n",
       "8    4.989068  \n",
       "9    4.611896  \n",
       "10   7.024155  \n",
       "11   1.956349  \n",
       "12   3.572511  \n",
       "13   3.073201  \n",
       "14   5.309751  \n",
       "15   2.551298  \n",
       "16   2.500218  \n",
       "17   2.949306  \n",
       "18   5.690888  \n",
       "19  13.744240  \n",
       "20  19.770914  \n",
       "21  10.076331  \n",
       "22  12.737508  \n",
       "23   6.503826  \n",
       "24   7.039122  \n",
       "25   5.860027  \n",
       "26   9.311299  \n",
       "27   9.421040  \n",
       "28  23.727662  "
      ]
     },
     "execution_count": 9,
     "metadata": {},
     "output_type": "execute_result"
    }
   ],
   "source": [
    "stdsc=StandardScaler()\n",
    "X_u_std=stdsc.fit_transform(X_u)\n",
    "pd.DataFrame(X_u_std).describe().transpose()"
   ]
  },
  {
   "cell_type": "code",
   "execution_count": 10,
   "metadata": {
    "collapsed": true
   },
   "outputs": [],
   "source": [
    "from sklearn.model_selection import train_test_split\n",
    "X_u_std_train, X_u_std_test, y_u_train, y_u_test = \\\n",
    "train_test_split(X_u_std, y_u, test_size=0.3, random_state=0)"
   ]
  },
  {
   "cell_type": "markdown",
   "metadata": {},
   "source": [
    "Using GridSearchCV we want to estimate the best value for the parameter C, our objective is to maximize the Recall score."
   ]
  },
  {
   "cell_type": "code",
   "execution_count": 29,
   "metadata": {
    "collapsed": false
   },
   "outputs": [],
   "source": [
    "from sklearn.model_selection import GridSearchCV\n",
    "pipe_lr = Pipeline([('scl', StandardScaler()),\n",
    "                     ('clf', LogisticRegression(random_state=1))])\n",
    "param_range = np.logspace(-1, 3, 15)\n",
    "param_grid = [{'clf__C': param_range}]\n",
    "gs = GridSearchCV(estimator= pipe_lr,\n",
    "                  param_grid=param_grid,\n",
    "                  scoring='recall',\n",
    "                  cv=10,\n",
    "                  n_jobs=-1)\n",
    "gs = gs.fit(X_u_std_train, y_u_train)\n",
    "gs_b=gs.best_params_\n",
    "    "
   ]
  },
  {
   "cell_type": "code",
   "execution_count": 30,
   "metadata": {
    "collapsed": false
   },
   "outputs": [
    {
     "name": "stdout",
     "output_type": "stream",
     "text": [
      "0.853934583337\n",
      "{'clf__C': 2.6826957952797246}\n"
     ]
    }
   ],
   "source": [
    "print(gs.best_score_)\n",
    "print(gs.best_params_)\n"
   ]
  },
  {
   "cell_type": "code",
   "execution_count": 31,
   "metadata": {
    "collapsed": false
   },
   "outputs": [
    {
     "name": "stdout",
     "output_type": "stream",
     "text": [
      "Test recall: 0.988\n"
     ]
    }
   ],
   "source": [
    "clf = gs.best_estimator_\n",
    "clf.fit(X_u_std_train, y_u_train)\n",
    "print('Test recall: %.3f' % clf.score(X_u_std_test, y_u_test))"
   ]
  },
  {
   "cell_type": "code",
   "execution_count": 44,
   "metadata": {
    "collapsed": true
   },
   "outputs": [],
   "source": [
    "from sklearn.model_selection import validation_curve\n",
    "param_range = np.logspace(-1, 3, 15)\n",
    "\n",
    "pipe_lr = Pipeline([('scl', StandardScaler()),\n",
    "                     ('clf', LogisticRegression(random_state=1))])\n",
    "param_range = np.logspace(-1, 3, 15)\n",
    "param_grid = [{'clf__C': param_range}]\n",
    "train_scores, test_scores = validation_curve(\n",
    "              estimator=pipe_lr,\n",
    "              X=X_u_std_train,\n",
    "              y=y_u_train,\n",
    "              param_name='clf__C',\n",
    "              param_range= param_range,\n",
    "              cv=10)\n",
    "train_mean = np.mean(train_scores, axis=1)\n",
    "train_std = np.std(train_scores, axis=1)\n",
    "test_mean = np.mean(test_scores, axis=1)\n",
    "test_std = np.std(test_scores, axis=1)\n"
   ]
  },
  {
   "cell_type": "code",
   "execution_count": 46,
   "metadata": {
    "collapsed": false
   },
   "outputs": [
    {
     "data": {
      "image/png": "[encoded data removed]",
      "text/plain": [
       "<matplotlib.figure.Figure at 0x11d2954ceb8>"
      ]
     },
     "metadata": {},
     "output_type": "display_data"
    }
   ],
   "source": [
    "plt.plot(param_range, train_mean,\n",
    "         color='blue', marker='o',\n",
    "         markersize=5,\n",
    "         label='training accuracy')\n",
    "plt.fill_between(param_range, train_mean + train_std,\n",
    "                 train_mean - train_std, alpha=0.15,\n",
    "                 color='blue')\n",
    "plt.plot(param_range, test_mean,\n",
    "         color='green', linestyle='--',\n",
    "         marker='s', markersize=5,\n",
    "         label='validation accuracy')\n",
    "plt.fill_between(param_range,\n",
    "                 test_mean + test_std,\n",
    "                 test_mean - test_std,\n",
    "                 alpha=0.15, color='green')\n",
    "plt.grid()\n",
    "plt.xscale('log')\n",
    "plt.legend(loc='lower right')\n",
    "plt.xlabel('Parameter C')\n",
    "plt.ylabel('Accuracy')\n",
    "plt.ylim([0.98, 0.99])\n",
    "plt.show()\n"
   ]
  },
  {
   "cell_type": "markdown",
   "metadata": {},
   "source": [
    "Using validation curve, we evaluate the performance of the Logistic regression for different, inverse regularization parameters 'C'.\n",
    "\n",
    "Although the differences in the accuracy for varying values of C are subtle, we can see that the model slightly underfits the data for small value of C. However, for large values of C, the model tends to slightly overfit the data. "
   ]
  },
  {
   "cell_type": "markdown",
   "metadata": {},
   "source": [
    "We put the 'C' value that we found using GrindsearchCV"
   ]
  },
  {
   "cell_type": "code",
   "execution_count": 32,
   "metadata": {
    "collapsed": true
   },
   "outputs": [],
   "source": [
    "from sklearn.linear_model import LogisticRegression\n",
    "lr_u = LogisticRegression(C=2.68, random_state=0)\n",
    "\n",
    "lr_u.fit(X_u_std_train, y_u_train)\n",
    "lr_u_train_pred=lr_u.predict(X_u_std_train)\n",
    "lr_u_test_pred= lr_u.predict(X_u_std_test)"
   ]
  },
  {
   "cell_type": "code",
   "execution_count": 33,
   "metadata": {
    "collapsed": false
   },
   "outputs": [
    {
     "name": "stdout",
     "output_type": "stream",
     "text": [
      "53 19\n"
     ]
    }
   ],
   "source": [
    "rss_u_train=sum((lr_u_train_pred-y_u_train)*(lr_u_train_pred-y_u_train))\n",
    "rss_u_test=sum((lr_u_test_pred-y_u_test)*(lr_u_test_pred-y_u_test))\n",
    "print(rss_u_train,rss_u_test)"
   ]
  },
  {
   "cell_type": "code",
   "execution_count": 34,
   "metadata": {
    "collapsed": false
   },
   "outputs": [
    {
     "name": "stdout",
     "output_type": "stream",
     "text": [
      "LogisticRegressionU\n",
      "Train Accuracy: 0.986 Test Accuracy:0.988\n",
      "Train MSE: 0.014 Test MSE: 0.012\n"
     ]
    }
   ],
   "source": [
    "from sklearn.metrics import mean_squared_error,accuracy_score\n",
    "print('LogisticRegressionU\\nTrain Accuracy: %.3f Test Accuracy:%.3f'%(accuracy_score(y_u_train,lr_u_train_pred),\n",
    "accuracy_score(y_u_test,lr_u_test_pred)))\n",
    "print('Train MSE: %.3f Test MSE: %.3f'%(mean_squared_error(y_u_train,lr_u_train_pred),mean_squared_error(y_u_test,lr_u_test_pred)))"
   ]
  },
  {
   "cell_type": "markdown",
   "metadata": {},
   "source": [
    "The overall performance, in absolute value, of the model, estimated using the undersample, is worst than the performance in the whole sample. This is reasonable, because we introduced more bias in our framework for detecting the fraudolent transactions. So we made the task harder for the logistic function."
   ]
  },
  {
   "cell_type": "code",
   "execution_count": 35,
   "metadata": {
    "collapsed": false
   },
   "outputs": [
    {
     "data": {
      "image/png": "[encoded data removed]",
      "text/plain": [
       "<matplotlib.figure.Figure at 0x11a058c9f28>"
      ]
     },
     "metadata": {},
     "output_type": "display_data"
    }
   ],
   "source": [
    "from sklearn.metrics import confusion_matrix\n",
    "\n",
    "confmat = confusion_matrix(y_true=y_u_test, y_pred=lr_u_test_pred)\n",
    "\n",
    "fig, ax = plt.subplots(figsize=(2.5, 2.5))\n",
    "ax.matshow(confmat, cmap=plt.cm.Blues, alpha=0.3)\n",
    "for i in range(confmat.shape[0]):\n",
    "    for j in range(confmat.shape[1]):\n",
    "        ax.text(x=j, y=i,\n",
    "                s=confmat[i, j],\n",
    "                va='center', ha='center')\n",
    "plt.xlabel('predicted label')\n",
    "plt.ylabel('true label')\n",
    "plt.show()\n"
   ]
  },
  {
   "cell_type": "code",
   "execution_count": 36,
   "metadata": {
    "collapsed": false
   },
   "outputs": [
    {
     "data": {
      "text/plain": [
       "0.11888111888111888"
      ]
     },
     "execution_count": 36,
     "metadata": {},
     "output_type": "execute_result"
    }
   ],
   "source": [
    "result=np.matrix(confmat)\n",
    "\n",
    "ERR_fraud=(result[1,0])/(result[1,0]+result[1,1])\n",
    "ERR_fraud\n"
   ]
  },
  {
   "cell_type": "markdown",
   "metadata": {},
   "source": [
    "The misclassied number of fraudolent transactions in the undersample test set"
   ]
  },
  {
   "cell_type": "markdown",
   "metadata": {},
   "source": [
    "We estimate the total error and the number of misclassified fraudolent transactions in the original dataset using the Logistic regression function estimated in the undersample data set."
   ]
  },
  {
   "cell_type": "code",
   "execution_count": 37,
   "metadata": {
    "collapsed": false
   },
   "outputs": [
    {
     "data": {
      "image/png": "[encoded data removed]",
      "text/plain": [
       "<matplotlib.figure.Figure at 0x11a03720c18>"
      ]
     },
     "metadata": {},
     "output_type": "display_data"
    },
    {
     "data": {
      "text/plain": [
       "0.093305290951416223"
      ]
     },
     "execution_count": 37,
     "metadata": {},
     "output_type": "execute_result"
    }
   ],
   "source": [
    "y_c_pred = lr_u.predict(X_std)\n",
    "\n",
    "confmat = confusion_matrix(y_true=y, y_pred=y_c_pred)\n",
    "\n",
    "fig, ax = plt.subplots(figsize=(2.5, 2.5))\n",
    "ax.matshow(confmat, cmap=plt.cm.Blues, alpha=0.3)\n",
    "for i in range(confmat.shape[0]):\n",
    "    for j in range(confmat.shape[1]):\n",
    "        ax.text(x=j, y=i,\n",
    "                s=confmat[i, j],\n",
    "                va='center', ha='center')\n",
    "plt.xlabel('predicted label')\n",
    "plt.ylabel('true label')\n",
    "plt.show()\n",
    "\n",
    "result=np.matrix(confmat)\n",
    "\n",
    "ERR=(result[0,1]+result[1,0])/(result[0,0]+result[0,1]+result[1,0]+result[1,1])\n",
    "ERR\n",
    "\n"
   ]
  },
  {
   "cell_type": "markdown",
   "metadata": {},
   "source": [
    "The accuracy, of our model estimated in the undersample, and performed in the whole sample, is worst than the accuracy of the model estimated in the whole sample"
   ]
  },
  {
   "cell_type": "code",
   "execution_count": 38,
   "metadata": {
    "collapsed": false
   },
   "outputs": [
    {
     "data": {
      "text/plain": [
       "0.046747967479674794"
      ]
     },
     "execution_count": 38,
     "metadata": {},
     "output_type": "execute_result"
    }
   ],
   "source": [
    "ERR_fraud=(result[1,0])/(result[1,0]+result[1,1])\n",
    "ERR_fraud"
   ]
  },
  {
   "cell_type": "markdown",
   "metadata": {},
   "source": [
    "As we can see above, using the undersample framework, we reach a better resault, if compared with the result obtained with the simple logistic regression applied to the original data set.\n",
    "\n",
    "we misclassified 23 fraudolent transactions over 492. Wich is an improvement, if compared with the privious model, in any case, we paid this improvement with a lower accuracy rate"
   ]
  },
  {
   "cell_type": "code",
   "execution_count": 39,
   "metadata": {
    "collapsed": false
   },
   "outputs": [
    {
     "data": {
      "image/png": "[encoded data removed]",
      "text/plain": [
       "<matplotlib.figure.Figure at 0x11a01cd4fd0>"
      ]
     },
     "metadata": {},
     "output_type": "display_data"
    }
   ],
   "source": [
    "from itertools import cycle\n",
    "from sklearn.metrics import precision_recall_curve,auc,roc_auc_score,roc_curve,recall_score,classification_report \n",
    "\n",
    "\n",
    "lr = LogisticRegression(C = 0.72, penalty = 'l1')\n",
    "lr.fit(X_u_std_train,y_u_train.values.ravel())\n",
    "y_u_proba = lr.predict_proba(X_u_std_test)\n",
    "\n",
    "thresholds = [0.1,0.2,0.3,0.4,0.5,0.6,0.7,0.8,0.9]\n",
    "colors = cycle(['navy', 'turquoise', 'darkorange', 'cornflowerblue', 'teal', 'red', 'yellow', 'green', 'blue','black'])\n",
    "\n",
    "plt.figure(figsize=(5,5))\n",
    "\n",
    "j = 1\n",
    "for i,color in zip(thresholds,colors):\n",
    "    y_test_predictions_prob = y_u_proba[:,1] > i\n",
    "    \n",
    "    precision, recall, thresholds = precision_recall_curve(y_u_test,y_test_predictions_prob)\n",
    "    \n",
    "    # Plot Precision-Recall curve\n",
    "    plt.plot(recall, precision, color=color,\n",
    "                 label='Threshold: %s'%i)\n",
    "    plt.xlabel('Recall')\n",
    "    plt.ylabel('Precision')\n",
    "    plt.ylim([0.0, 1.05])\n",
    "    plt.xlim([0.0, 1.0])\n",
    "    plt.title('Precision-Recall')\n",
    "    plt.legend(loc=\"lower left\")\n",
    "plt.show()"
   ]
  },
  {
   "cell_type": "markdown",
   "metadata": {},
   "source": [
    "The plot above shows the trade-off between the precision ratio and the recall ratio.\n",
    "\n",
    "PRE=TP/TP+FP\n",
    "\n",
    "REC=TP/FN+TP\n",
    "\n",
    "The best model will be the one that best handle the trade off between Precision ratio and Recall ratio"
   ]
  },
  {
   "cell_type": "markdown",
   "metadata": {},
   "source": [
    "# SVM"
   ]
  },
  {
   "cell_type": "markdown",
   "metadata": {},
   "source": [
    "Let's see if SVM using 'Linear' kernel or 'radial basis function' perform better results. We will use the undersample framework, so estimate the SVM in the undersample and see which results it obtains in the original standardized data set."
   ]
  },
  {
   "cell_type": "markdown",
   "metadata": {},
   "source": [
    "We estimate our 'C' parameter using Grindsearch, with the objective of maximizing the recall ratio "
   ]
  },
  {
   "cell_type": "code",
   "execution_count": 31,
   "metadata": {
    "collapsed": false
   },
   "outputs": [
    {
     "name": "stdout",
     "output_type": "stream",
     "text": [
      "0.831533861505\n",
      "{'clf__C': 1.0, 'clf__kernel': 'linear'}\n"
     ]
    }
   ],
   "source": [
    "from sklearn.svm import SVC\n",
    "\n",
    "pipe_svc = Pipeline([('clf', SVC(random_state=1))])\n",
    "param_range = np.logspace(-1, 3, 5)\n",
    "param_grid = [{'clf__C': param_range,\n",
    "               'clf__kernel': ['linear']}]\n",
    "gs = GridSearchCV(estimator= pipe_svc,\n",
    "                  param_grid=param_grid,\n",
    "                  scoring='recall',\n",
    "                  cv=10,\n",
    "                  n_jobs=-1)\n",
    "gs = gs.fit(X_u_std_train, y_u_train)\n",
    "\n",
    "print(gs.best_score_)\n",
    "print(gs.best_params_)"
   ]
  },
  {
   "cell_type": "code",
   "execution_count": 32,
   "metadata": {
    "collapsed": false
   },
   "outputs": [
    {
     "name": "stdout",
     "output_type": "stream",
     "text": [
      "Test recall: 0.984\n"
     ]
    }
   ],
   "source": [
    "clf = gs.best_estimator_\n",
    "clf.fit(X_u_std_train, y_u_train)\n",
    "print('Test recall: %.3f' % clf.score(X_u_std_test, y_u_test))\n"
   ]
  },
  {
   "cell_type": "code",
   "execution_count": 33,
   "metadata": {
    "collapsed": false
   },
   "outputs": [
    {
     "name": "stdout",
     "output_type": "stream",
     "text": [
      "SVM_model\n",
      "Train Accuracy: 0.985 Test Accuracy:0.984\n",
      "Train MSE: 0.015 Test MSE: 0.016\n"
     ]
    }
   ],
   "source": [
    "SVM_model1=SVC(kernel='linear',random_state=1,C=1)\n",
    "\n",
    "SVM_model1.fit(X_u_std_train,y_u_train)\n",
    "SVM_model1_train_pred,SVM_model1_test_pred=SVM_model1.predict(X_u_std_train),SVM_model1.predict(X_u_std_test)\n",
    "\n",
    "from sklearn.metrics import mean_squared_error,accuracy_score\n",
    "print('SVM_model\\nTrain Accuracy: %.3f Test Accuracy:%.3f'%(accuracy_score(y_u_train,SVM_model1_train_pred),\n",
    "accuracy_score(y_u_test,SVM_model1_test_pred)))\n",
    "print('Train MSE: %.3f Test MSE: %.3f'%(mean_squared_error(y_u_train,SVM_model1_train_pred),mean_squared_error(y_u_test,SVM_model1_test_pred)))"
   ]
  },
  {
   "cell_type": "code",
   "execution_count": 34,
   "metadata": {
    "collapsed": false
   },
   "outputs": [
    {
     "data": {
      "image/png": "[encoded data removed]",
      "text/plain": [
       "<matplotlib.figure.Figure at 0x11d2ddb8828>"
      ]
     },
     "metadata": {},
     "output_type": "display_data"
    }
   ],
   "source": [
    "y_c_pred = SVM_model1.predict(X_std)\n",
    "confmats = confusion_matrix(y_true=y, y_pred=y_c_pred)\n",
    "\n",
    "fig, ax = plt.subplots(figsize=(2.5, 2.5))\n",
    "ax.matshow(confmats, cmap=plt.cm.Blues, alpha=0.3)\n",
    "for i in range(confmats.shape[0]):\n",
    "    for j in range(confmats.shape[1]):\n",
    "        ax.text(x=j, y=i,\n",
    "                s=confmats[i, j],\n",
    "                va='center', ha='center')\n",
    "plt.xlabel('predicted label')\n",
    "plt.ylabel('true label')\n",
    "plt.show()\n",
    "\n"
   ]
  },
  {
   "cell_type": "code",
   "execution_count": 35,
   "metadata": {
    "collapsed": false
   },
   "outputs": [
    {
     "data": {
      "text/plain": [
       "0.044331775553269406"
      ]
     },
     "execution_count": 35,
     "metadata": {},
     "output_type": "execute_result"
    }
   ],
   "source": [
    "result=np.matrix(confmats)\n",
    "ERR=(result[0,1]+result[1,0])/(result[0,0]+result[0,1]+result[1,0]+result[1,1])\n",
    "ERR"
   ]
  },
  {
   "cell_type": "markdown",
   "metadata": {},
   "source": [
    "The accuracy in the case of SVC with linear kernel is good."
   ]
  },
  {
   "cell_type": "code",
   "execution_count": 36,
   "metadata": {
    "collapsed": false
   },
   "outputs": [
    {
     "data": {
      "text/plain": [
       "0.081300813008130079"
      ]
     },
     "execution_count": 36,
     "metadata": {},
     "output_type": "execute_result"
    }
   ],
   "source": [
    "ERR_fraud=(result[1,0])/(result[1,0]+result[1,1])\n",
    "ERR_fraud"
   ]
  },
  {
   "cell_type": "markdown",
   "metadata": {},
   "source": [
    "The misclassification error of fraudolent transactions is low, using the undersample framework."
   ]
  },
  {
   "cell_type": "code",
   "execution_count": 46,
   "metadata": {
    "collapsed": false
   },
   "outputs": [
    {
     "name": "stdout",
     "output_type": "stream",
     "text": [
      "0.770896595175\n",
      "{'clf__C': 2.6826957952797246, 'clf__gamma': 0.10000000000000001, 'clf__kernel': 'rbf'}\n"
     ]
    }
   ],
   "source": [
    "pipe_svc_r = Pipeline([('clf', SVC(random_state=1))])\n",
    "param_range = np.logspace(-1, 3, 15)\n",
    "param_grid = [{'clf__C': param_range,\n",
    "               'clf__gamma': param_range,\n",
    "               'clf__kernel': ['rbf']}]\n",
    "gs = GridSearchCV(estimator= pipe_svc_r,\n",
    "                  param_grid=param_grid,\n",
    "                  scoring='recall',\n",
    "                  cv=10,\n",
    "                  n_jobs=-1)\n",
    "gs = gs.fit(X_u_std_train, y_u_train)\n",
    "\n",
    "print(gs.best_score_)\n",
    "print(gs.best_params_)\n"
   ]
  },
  {
   "cell_type": "code",
   "execution_count": 47,
   "metadata": {
    "collapsed": false
   },
   "outputs": [
    {
     "name": "stdout",
     "output_type": "stream",
     "text": [
      "Test recall: 0.980\n"
     ]
    }
   ],
   "source": [
    "clf = gs.best_estimator_\n",
    "clf.fit(X_u_std_train, y_u_train)\n",
    "print('Test recall: %.3f' % clf.score(X_u_std_test, y_u_test))\n"
   ]
  },
  {
   "cell_type": "code",
   "execution_count": 48,
   "metadata": {
    "collapsed": false
   },
   "outputs": [
    {
     "name": "stdout",
     "output_type": "stream",
     "text": [
      "SVM_model\n",
      "Train Accuracy: 0.994 Test Accuracy:0.980\n",
      "Train MSE: 0.006 Test MSE: 0.020\n"
     ]
    }
   ],
   "source": [
    "SVM_model2=SVC(kernel='rbf',random_state=0,C=2.68, gamma=0.1)\n",
    "SVM_model2.fit(X_u_std_train,y_u_train)\n",
    "SVM_model2_train_pred,SVM_model2_test_pred=SVM_model2.predict(X_u_std_train),SVM_model2.predict(X_u_std_test)\n",
    "\n",
    "from sklearn.metrics import mean_squared_error,accuracy_score\n",
    "print('SVM_model\\nTrain Accuracy: %.3f Test Accuracy:%.3f'%(accuracy_score(y_u_train,SVM_model2_train_pred),\n",
    "accuracy_score(y_u_test,SVM_model2_test_pred)))\n",
    "print('Train MSE: %.3f Test MSE: %.3f'%(mean_squared_error(y_u_train,SVM_model2_train_pred),mean_squared_error(y_u_test,SVM_model2_test_pred)))"
   ]
  },
  {
   "cell_type": "code",
   "execution_count": 49,
   "metadata": {
    "collapsed": false
   },
   "outputs": [
    {
     "data": {
      "image/png": "[encoded data removed]",
      "text/plain": [
       "<matplotlib.figure.Figure at 0x11a01c44390>"
      ]
     },
     "metadata": {},
     "output_type": "display_data"
    }
   ],
   "source": [
    "y_c_pred = SVM_model2.predict(X_std)\n",
    "confmats = confusion_matrix(y_true=y, y_pred=y_c_pred)\n",
    "fig, ax = plt.subplots(figsize=(2.5, 2.5))\n",
    "ax.matshow(confmats, cmap=plt.cm.Blues, alpha=0.3)\n",
    "for i in range(confmats.shape[0]):\n",
    "    for j in range(confmats.shape[1]):\n",
    "        ax.text(x=j, y=i,\n",
    "                s=confmats[i, j],\n",
    "                va='center', ha='center')\n",
    "plt.xlabel('predicted label')\n",
    "plt.ylabel('true label')\n",
    "plt.show()\n",
    "\n"
   ]
  },
  {
   "cell_type": "code",
   "execution_count": 50,
   "metadata": {
    "collapsed": false
   },
   "outputs": [
    {
     "data": {
      "text/plain": [
       "0.015912530239776412"
      ]
     },
     "execution_count": 50,
     "metadata": {},
     "output_type": "execute_result"
    }
   ],
   "source": [
    "result=np.matrix(confmats)\n",
    "ERR=(result[0,1]+result[1,0])/(result[0,0]+result[0,1]+result[1,0]+result[1,1])\n",
    "ERR\n"
   ]
  },
  {
   "cell_type": "code",
   "execution_count": 51,
   "metadata": {
    "collapsed": false
   },
   "outputs": [
    {
     "data": {
      "text/plain": [
       "0.7967479674796748"
      ]
     },
     "execution_count": 51,
     "metadata": {},
     "output_type": "execute_result"
    }
   ],
   "source": [
    "ERR_fraud=(result[1,0])/(result[1,0]+result[1,1])\n",
    "ERR_fraud"
   ]
  },
  {
   "cell_type": "markdown",
   "metadata": {},
   "source": [
    "Using the SVC with radial basis function we have a good accuracy, the highest accuracy using the undersample framework, but the highest misclassification error, so far."
   ]
  },
  {
   "cell_type": "markdown",
   "metadata": {},
   "source": [
    "KNN"
   ]
  },
  {
   "cell_type": "markdown",
   "metadata": {},
   "source": [
    "Let's estimate the K-nearest neighbors in the undersample and predicts the fraudolent transactions in the original standardized data set."
   ]
  },
  {
   "cell_type": "code",
   "execution_count": 52,
   "metadata": {
    "collapsed": true
   },
   "outputs": [],
   "source": [
    "from sklearn.neighbors import KNeighborsClassifier\n",
    "from sklearn.metrics import classification_report\n",
    "model_knn = KNeighborsClassifier()\n",
    "model_knn.fit(X_u_std_train, y_u_train)\n",
    "predictions = model_knn.predict(X_std)"
   ]
  },
  {
   "cell_type": "code",
   "execution_count": 53,
   "metadata": {
    "collapsed": false
   },
   "outputs": [
    {
     "name": "stdout",
     "output_type": "stream",
     "text": [
      "accuracy score:\n",
      "0.9933744606\n",
      "classification report: \n",
      "             precision    recall  f1-score   support\n",
      "\n",
      "          0       1.00      0.99      1.00    284315\n",
      "          1       0.19      0.88      0.31       492\n",
      "\n",
      "avg / total       1.00      0.99      1.00    284807\n",
      "\n"
     ]
    }
   ],
   "source": [
    "\n",
    "print(\"accuracy score:\")\n",
    "print(accuracy_score(y, predictions))\n",
    "\n",
    "print(\"classification report: \")\n",
    "print(classification_report(y, predictions))"
   ]
  },
  {
   "cell_type": "code",
   "execution_count": 54,
   "metadata": {
    "collapsed": false
   },
   "outputs": [
    {
     "data": {
      "image/png": "[encoded data removed]",
      "text/plain": [
       "<matplotlib.figure.Figure at 0x11a01c44048>"
      ]
     },
     "metadata": {},
     "output_type": "display_data"
    }
   ],
   "source": [
    "confmatk = confusion_matrix(y_true=y, y_pred=predictions)\n",
    "fig, ax = plt.subplots(figsize=(2.5, 2.5))\n",
    "ax.matshow(confmatk, cmap=plt.cm.Blues, alpha=0.3)\n",
    "for i in range(confmatk.shape[0]):\n",
    "    for j in range(confmatk.shape[1]):\n",
    "        ax.text(x=j, y=i,\n",
    "                s=confmatk[i, j],\n",
    "                va='center', ha='center')\n",
    "plt.xlabel('predicted label')\n",
    "plt.ylabel('true label')\n",
    "plt.show()"
   ]
  },
  {
   "cell_type": "code",
   "execution_count": 55,
   "metadata": {
    "collapsed": false
   },
   "outputs": [
    {
     "data": {
      "text/plain": [
       "0.0066255394003658617"
      ]
     },
     "execution_count": 55,
     "metadata": {},
     "output_type": "execute_result"
    }
   ],
   "source": [
    "result=np.matrix(confmatk)\n",
    "ERR=(result[0,1]+result[1,0])/(result[0,0]+result[0,1]+result[1,0]+result[1,1])\n",
    "ERR"
   ]
  },
  {
   "cell_type": "code",
   "execution_count": 56,
   "metadata": {
    "collapsed": false
   },
   "outputs": [
    {
     "data": {
      "text/plain": [
       "0.12398373983739837"
      ]
     },
     "execution_count": 56,
     "metadata": {},
     "output_type": "execute_result"
    }
   ],
   "source": [
    "ERR_fraud=(result[1,0])/(result[1,0]+result[1,1])\n",
    "ERR_fraud"
   ]
  },
  {
   "cell_type": "markdown",
   "metadata": {},
   "source": [
    "The accuracy is good, but the misclassification of the fraudolent transactions is still high."
   ]
  },
  {
   "cell_type": "markdown",
   "metadata": {},
   "source": [
    "# Cross Validation\n"
   ]
  },
  {
   "cell_type": "markdown",
   "metadata": {},
   "source": [
    "Using Cross Validation, I want to see which is the best model, among: SVC with linear kernel, SVC with radial basis function, Logistic regression and K-nearest neighbors, according to 'Recall ratio' and 'Receiving operator characteristic area under the curve'."
   ]
  },
  {
   "cell_type": "code",
   "execution_count": 57,
   "metadata": {
    "collapsed": true
   },
   "outputs": [],
   "source": [
    "from sklearn.model_selection import KFold\n",
    "from sklearn.model_selection import cross_val_score\n",
    "from sklearn.metrics import classification_report\n",
    "from sklearn.metrics import accuracy_score\n",
    "from sklearn.metrics import roc_auc_score\n",
    "from sklearn.metrics import recall_score\n",
    "from sklearn.linear_model import LogisticRegression\n",
    "from sklearn.tree import DecisionTreeClassifier\n",
    "from sklearn.neighbors import KNeighborsClassifier\n",
    "from sklearn.metrics import auc"
   ]
  },
  {
   "cell_type": "code",
   "execution_count": 58,
   "metadata": {
    "collapsed": false
   },
   "outputs": [
    {
     "name": "stdout",
     "output_type": "stream",
     "text": [
      "10-fold cross validation:\n",
      "\n",
      "[SVCl]: 0.822353 (+/- 0.056826) Recall \n",
      "[SVCr]: 0.770924 (+/- 0.095328) Recall \n",
      "[LR]: 0.853950 (+/- 0.070366) Recall \n",
      "[KNN]: 0.842521 (+/- 0.068904) Recall \n"
     ]
    }
   ],
   "source": [
    "num_folds = 20\n",
    "scoring = 'recall'\n",
    "\n",
    "#scoring = 'recall'\n",
    "#evaluate each algorithm for \n",
    "SVCl= SVC(kernel='linear',random_state=0, C=10, probability=True)\n",
    "SVCr = SVC(kernel='rbf',random_state=0, C=10, gamma=0.1, probability= True)\n",
    "LR = LogisticRegression(penalty='l1', C=1.39, random_state=0)\n",
    "KNN = KNeighborsClassifier(n_neighbors=1, p=2, metric='minkowski')\n",
    "\n",
    "clf_labels = ['SVCl', 'SVCr', 'LR', 'KNN']\n",
    "print('10-fold cross validation:\\n')\n",
    "for clf, label in zip ([SVCl, SVCr, LR, KNN], clf_labels):\n",
    "    scores = cross_val_score(estimator=clf,\n",
    "                             X=X_u_std_train,\n",
    "                             y=y_u_train,\n",
    "                             cv=10,\n",
    "                             scoring='recall')\n",
    "   \n",
    "    print(\"[%s]: %f (+/- %f) Recall \"\n",
    "          % (label ,scores.mean(), scores.std()))"
   ]
  },
  {
   "cell_type": "code",
   "execution_count": 59,
   "metadata": {
    "collapsed": false
   },
   "outputs": [
    {
     "name": "stdout",
     "output_type": "stream",
     "text": [
      "10-fold cross validation:\n",
      "\n",
      "[SVCl]: 0.969655 (+/- 0.021966) ROC AUC \n",
      "[SVCr]: 0.961790 (+/- 0.024182) ROC AUC \n",
      "[LR]: 0.974855 (+/- 0.020583) ROC AUC \n",
      "[KNN]: 0.917916 (+/- 0.033849) ROC AUC \n"
     ]
    }
   ],
   "source": [
    "\n",
    "\n",
    "num_folds = 20\n",
    "scoring = 'roc_auc'\n",
    "\n",
    "#scoring = 'auc'\n",
    "#evaluate each algorithm for \n",
    "SVCl= SVC(kernel='linear',random_state=0, C=10, probability=True)\n",
    "SVCr = SVC(kernel='rbf',random_state=0, C=10, gamma=0.1, probability= True)\n",
    "LR = LogisticRegression(penalty='l1', C=1.39, random_state=0)\n",
    "KNN = KNeighborsClassifier(n_neighbors=1, p=2, metric='minkowski')\n",
    "\n",
    "clf_labels = ['SVCl', 'SVCr', 'LR', 'KNN']\n",
    "print('10-fold cross validation:\\n')\n",
    "for clf, label in zip ([SVCl, SVCr, LR, KNN], clf_labels):\n",
    "    scores = cross_val_score(estimator=clf,\n",
    "                             X=X_u_std_train,\n",
    "                             y=y_u_train,\n",
    "                             cv=10,\n",
    "                             scoring='roc_auc')\n",
    "   \n",
    "    print(\"[%s]: %f (+/- %f) ROC AUC \"\n",
    "          % (label ,scores.mean(), scores.std()))\n",
    " \n",
    "\n",
    "\n"
   ]
  },
  {
   "cell_type": "markdown",
   "metadata": {},
   "source": [
    "The CV confirms our first result, the Logistic regression is the best model for predicting the fraudolent transactions, according to the results obtained using the 'Recal' ratio and the 'ROC AUC'."
   ]
  },
  {
   "cell_type": "code",
   "execution_count": 60,
   "metadata": {
    "collapsed": false
   },
   "outputs": [
    {
     "data": {
      "image/png": "[encoded data removed]",
      "text/plain": [
       "<matplotlib.figure.Figure at 0x11a03d76630>"
      ]
     },
     "metadata": {},
     "output_type": "display_data"
    }
   ],
   "source": [
    "colors = ['black', 'orange', 'blue', 'green']\n",
    "linestyles = [':', '--', '-.','-']\n",
    "all_clf= [SVCl, SVCr, LR, KNN]\n",
    "for clf, label, clr, ls \\\n",
    "       in zip(all_clf, clf_labels, colors, linestyles):\n",
    "     y_pred = clf.fit(X_u_std_train,\n",
    "                        y_u_train).predict_proba(X_u_std_test)[:, 1]\n",
    "\n",
    "     fpr, tpr, thresholds = roc_curve(y_true = y_u_test,\n",
    "                                      y_score= y_pred)\n",
    "     roc_auc = auc(x=fpr, y=tpr)\n",
    "     plt.plot(fpr, tpr,\n",
    "              color=clr,\n",
    "              linestyle=ls,\n",
    "              label= '%s (auc = %0.2f)' % (label, roc_auc))\n",
    "plt.legend(loc='lower right')\n",
    "plt.plot([0, 1], [0, 1],\n",
    "         linestyle='--',\n",
    "         color='gray',\n",
    "         linewidth=2)\n",
    "plt.xlim([-0.1, 1.1])\n",
    "plt.ylim([-0.1, 1.1])\n",
    "plt.grid()\n",
    "plt.xlabel('False Positive Rate')\n",
    "plt.ylabel('True Positive Rate')\n",
    "plt.show()\n"
   ]
  },
  {
   "cell_type": "markdown",
   "metadata": {},
   "source": [
    "Receiver operator characteristic graphs is usefull for selecting models for classification based on their performance with respect to the false positive and true positive rates.\n",
    "\n",
    "The diagonal is a random guessing, so if the model fall below the diagonal it is considered as worse than random guessing.\n",
    "\n",
    "As we can see the best models are SVCl and Logistic regression function, they fall into the top left corner of the graph with a true positive rate close to one and a false positive rate close to zero."
   ]
  },
  {
   "cell_type": "markdown",
   "metadata": {},
   "source": [
    "Let's see which are the most important attribute which help us to predict the Class fraudolent transactions. We will use Random Forest classifier for our analysis."
   ]
  },
  {
   "cell_type": "code",
   "execution_count": 11,
   "metadata": {
    "collapsed": false
   },
   "outputs": [
    {
     "name": "stdout",
     "output_type": "stream",
     "text": [
      " 1 V1                             0.175648\n",
      " 2 V2                             0.133855\n",
      " 3 V3                             0.118145\n",
      " 4 V4                             0.073613\n",
      " 5 V5                             0.072284\n",
      " 6 V6                             0.062486\n",
      " 7 V7                             0.035458\n",
      " 8 V8                             0.031074\n",
      " 9 V9                             0.026505\n",
      "10 V10                            0.025575\n",
      "11 V11                            0.020711\n",
      "12 V12                            0.019851\n",
      "13 V13                            0.017790\n",
      "14 V14                            0.014969\n",
      "15 V15                            0.014862\n",
      "16 V16                            0.013529\n",
      "17 V17                            0.013406\n",
      "18 V18                            0.013241\n",
      "19 V19                            0.012679\n",
      "20 V20                            0.012404\n",
      "21 V21                            0.012154\n",
      "22 V22                            0.011565\n",
      "23 V23                            0.011496\n",
      "24 V24                            0.010451\n",
      "25 V25                            0.010414\n",
      "26 V26                            0.010102\n",
      "27 V27                            0.009653\n",
      "28 V28                            0.008386\n",
      "29 normAmount                     0.007697\n"
     ]
    }
   ],
   "source": [
    "from sklearn import datasets\n",
    "from sklearn import metrics\n",
    "from sklearn.ensemble import RandomForestClassifier\n",
    "# display the relative importance of each attribute\n",
    "\n",
    "# Feature Importance\n",
    "\n",
    "#Feature Importance via Random Forest\n",
    "\n",
    "\n",
    "feat_labels = X.columns[:]\n",
    "forest = RandomForestClassifier (n_estimators=10000,\n",
    "                                 random_state=0,\n",
    "                                 n_jobs=-1)\n",
    "forest.fit(X_std_train, y_train)\n",
    "importances = forest.feature_importances_\n",
    "indices = np.argsort(importances) [::-1]\n",
    "for f in range(X_std_train.shape[1]):\n",
    "    print (\"%2d %-*s %f\" % (f + 1, 30,\n",
    "                            feat_labels[f],\n",
    "                            importances[indices[f]]))\n",
    "\n"
   ]
  },
  {
   "cell_type": "code",
   "execution_count": 12,
   "metadata": {
    "collapsed": false
   },
   "outputs": [
    {
     "data": {
      "image/png": "[encoded data removed]",
      "text/plain": [
       "<matplotlib.figure.Figure at 0x11d28b9db38>"
      ]
     },
     "metadata": {},
     "output_type": "display_data"
    }
   ],
   "source": [
    "plt.title('Feature Importances')\n",
    "plt.bar(range(X_std_train.shape[1]),\n",
    "        importances[indices],\n",
    "        color='lightblue',\n",
    "        align='center')\n",
    "plt.xticks(range(X_std_train.shape[1]),\n",
    "           feat_labels, rotation=90)\n",
    "plt.xlim([-1, X_std_train.shape[1]])\n",
    "plt.tight_layout()\n",
    "plt.show()"
   ]
  },
  {
   "cell_type": "markdown",
   "metadata": {},
   "source": [
    "As we could expect the ordering is determined by the PC, and the last helpfull is the attribute normAmount."
   ]
  },
  {
   "cell_type": "markdown",
   "metadata": {},
   "source": [
    "I build a sample made by all the fraudolent transactions and an equal amount of non-fraudolent transactions, randomly chosen.\n",
    "Using Random forest classifier, we can measure feature importance, as the averaged impurity decrease, computed from all decision trees in the forest.\n",
    "\n",
    "I want to see, if in this new sample the order of importance is modified"
   ]
  },
  {
   "cell_type": "code",
   "execution_count": 13,
   "metadata": {
    "collapsed": false
   },
   "outputs": [
    {
     "name": "stdout",
     "output_type": "stream",
     "text": [
      "0    492\n",
      "1    492\n",
      "Name: Class, dtype: int64\n"
     ]
    }
   ],
   "source": [
    "def undersample(df_creditcard, ratio=1 ):\n",
    "    fraud = df_creditcard[df_creditcard.Class == 1]\n",
    "    oth = df_creditcard[df_creditcard.Class == 0].sample(n=ratio*len(fraud))\n",
    "    return pd.concat([fraud, oth]).sample(frac=1) #shuffle data\n",
    "\n",
    "df_creditcard_Under = undersample (df_creditcard)\n",
    "\n",
    "count_classes = pd.value_counts(df_creditcard_Under['Class'], sort = True).sort_index()\n",
    "print(count_classes)\n"
   ]
  },
  {
   "cell_type": "code",
   "execution_count": 14,
   "metadata": {
    "collapsed": true
   },
   "outputs": [],
   "source": [
    "y_U = df_creditcard_Under.Class\n",
    "X_U= df_creditcard_Under.drop('Class', axis=1)\n",
    "\n",
    "stdsc=StandardScaler()\n",
    "X_U_std=stdsc.fit_transform(X_U)"
   ]
  },
  {
   "cell_type": "code",
   "execution_count": 16,
   "metadata": {
    "collapsed": false
   },
   "outputs": [
    {
     "name": "stdout",
     "output_type": "stream",
     "text": [
      " 1 V1                             0.172207\n",
      " 2 V2                             0.130102\n",
      " 3 V3                             0.111543\n",
      " 4 V4                             0.102231\n",
      " 5 V5                             0.082614\n",
      " 6 V6                             0.074011\n",
      " 7 V7                             0.042426\n",
      " 8 V8                             0.037478\n",
      " 9 V9                             0.035125\n",
      "10 V10                            0.022735\n",
      "11 V11                            0.017036\n",
      "12 V12                            0.014506\n",
      "13 V13                            0.014129\n",
      "14 V14                            0.013087\n",
      "15 V15                            0.012570\n",
      "16 V16                            0.010628\n",
      "17 V17                            0.010554\n",
      "18 V18                            0.010269\n",
      "19 V19                            0.010196\n",
      "20 V20                            0.009316\n",
      "21 V21                            0.009149\n",
      "22 V22                            0.008747\n",
      "23 V23                            0.008263\n",
      "24 V24                            0.008130\n",
      "25 V25                            0.007976\n",
      "26 V26                            0.007058\n",
      "27 V27                            0.006413\n",
      "28 V28                            0.005774\n",
      "29 normAmount                     0.005727\n"
     ]
    },
    {
     "data": {
      "image/png": "[encoded data removed]",
      "text/plain": [
       "<matplotlib.figure.Figure at 0x11d27884470>"
      ]
     },
     "metadata": {},
     "output_type": "display_data"
    }
   ],
   "source": [
    "forest.fit(X_U_std, y_U)\n",
    "importances = forest.feature_importances_\n",
    "indices = np.argsort(importances) [::-1]\n",
    "for f in range(X_U_std.shape[1]):\n",
    "    print (\"%2d %-*s %f\" % (f + 1, 30,\n",
    "                            feat_labels[f],\n",
    "                            importances[indices[f]]))\n",
    "\n",
    "plt.title('Feature Importances')\n",
    "plt.bar(range(X_U_std.shape[1]),\n",
    "        importances[indices],\n",
    "        color='lightblue',\n",
    "        align='center')\n",
    "plt.xticks(range(X_U_std.shape[1]),\n",
    "           feat_labels, rotation=90)\n",
    "plt.xlim([-1, X_U_std.shape[1]])\n",
    "plt.tight_layout()\n",
    "plt.show()"
   ]
  },
  {
   "cell_type": "markdown",
   "metadata": {},
   "source": [
    "Even in the new sample with equal amount of fraudolent transactions and non-fraudolent transactions, the order of importance of the attributes is the same established by the PC with normAmount as the last attribute."
   ]
  },
  {
   "cell_type": "markdown",
   "metadata": {},
   "source": [
    "I want to see, if dropping the less helpfull attributes (V19-normAmount), we reach better results. I will use the Logistic regression model, as the most suitable model for our porposes, and I will estimate it in the undersample framework."
   ]
  },
  {
   "cell_type": "code",
   "execution_count": 21,
   "metadata": {
    "collapsed": true
   },
   "outputs": [],
   "source": [
    "df_creditcard = df_creditcard.drop(['V19','V20','V21','V22','V23','V24','V25','V26','V27','V28','normAmount'],axis=1)\n",
    "y = df_creditcard.Class\n",
    "X= df_creditcard.drop('Class', axis=1)\n",
    "X_std =stdsc.fit_transform(X)"
   ]
  },
  {
   "cell_type": "code",
   "execution_count": 22,
   "metadata": {
    "collapsed": true
   },
   "outputs": [],
   "source": [
    "def undersample(df_creditcard, ratio=10):\n",
    "    fraud = df_creditcard[df_creditcard.Class == 1]\n",
    "    oth = df_creditcard[df_creditcard.Class == 0].sample(n=ratio*len(fraud))\n",
    "    return pd.concat([fraud, oth]).sample(frac=1) #shuffle data\n",
    "\n",
    "df_creditcard_under = undersample (df_creditcard)"
   ]
  },
  {
   "cell_type": "code",
   "execution_count": 23,
   "metadata": {
    "collapsed": true
   },
   "outputs": [],
   "source": [
    "y_u = df_creditcard_under.Class\n",
    "X_u= df_creditcard_under.drop('Class', axis=1)\n",
    "stdsc=StandardScaler()\n",
    "X_u_std=stdsc.fit_transform(X_u)"
   ]
  },
  {
   "cell_type": "code",
   "execution_count": 24,
   "metadata": {
    "collapsed": true
   },
   "outputs": [],
   "source": [
    "from sklearn.model_selection import train_test_split\n",
    "X_u_std_train, X_u_std_test, y_u_train, y_u_test = \\\n",
    "train_test_split(X_u_std, y_u, test_size=0.3, random_state=0)"
   ]
  },
  {
   "cell_type": "code",
   "execution_count": 25,
   "metadata": {
    "collapsed": false
   },
   "outputs": [
    {
     "name": "stdout",
     "output_type": "stream",
     "text": [
      "0.858180773509\n",
      "{'clf__C': 1.3894954943731375}\n"
     ]
    }
   ],
   "source": [
    "pipe_lr = Pipeline([('scl', StandardScaler()),\n",
    "                     ('clf', LogisticRegression(random_state=1))])\n",
    "param_range = np.logspace(-1, 3, 15)\n",
    "param_grid = [{'clf__C': param_range}]\n",
    "gs = GridSearchCV(estimator= pipe_lr,\n",
    "                  param_grid=param_grid,\n",
    "                  scoring='recall',\n",
    "                  cv=10,\n",
    "                  n_jobs=-1)\n",
    "gs\n",
    "gs = gs.fit(X_u_std_train, y_u_train)\n",
    "\n",
    "print(gs.best_score_)\n",
    "print(gs.best_params_)\n"
   ]
  },
  {
   "cell_type": "code",
   "execution_count": 37,
   "metadata": {
    "collapsed": false
   },
   "outputs": [
    {
     "name": "stdout",
     "output_type": "stream",
     "text": [
      "51 24\n",
      "LogisticRegressionU\n",
      "Train Accuracy: 0.987 Test Accuracy:0.985\n",
      "Train MSE: 0.013 Test MSE: 0.015\n"
     ]
    }
   ],
   "source": [
    "from sklearn.linear_model import LogisticRegression\n",
    "lr_u = LogisticRegression(C=1.38, random_state=1, penalty = 'l1')\n",
    "\n",
    "lr_u.fit(X_u_std_train, y_u_train)\n",
    "lr_u_train_pred=lr_u.predict(X_u_std_train)\n",
    "lr_u_test_pred= lr_u.predict(X_u_std_test)\n",
    "\n",
    "rss_u_train=sum((lr_u_train_pred-y_u_train)*(lr_u_train_pred-y_u_train))\n",
    "rss_u_test=sum((lr_u_test_pred-y_u_test)*(lr_u_test_pred-y_u_test))\n",
    "print(rss_u_train,rss_u_test)\n",
    "\n",
    "from sklearn.metrics import mean_squared_error,accuracy_score\n",
    "print('LogisticRegressionU\\nTrain Accuracy: %.3f Test Accuracy:%.3f'%(accuracy_score(y_u_train,lr_u_train_pred),\n",
    "accuracy_score(y_u_test,lr_u_test_pred)))\n",
    "print('Train MSE: %.3f Test MSE: %.3f'%(mean_squared_error(y_u_train,lr_u_train_pred),mean_squared_error(y_u_test,lr_u_test_pred)))\n"
   ]
  },
  {
   "cell_type": "code",
   "execution_count": 38,
   "metadata": {
    "collapsed": false
   },
   "outputs": [
    {
     "data": {
      "image/png": "[encoded data removed]",
      "text/plain": [
       "<matplotlib.figure.Figure at 0x11d2991ab70>"
      ]
     },
     "metadata": {},
     "output_type": "display_data"
    },
    {
     "data": {
      "text/plain": [
       "0.12987012987012986"
      ]
     },
     "execution_count": 38,
     "metadata": {},
     "output_type": "execute_result"
    }
   ],
   "source": [
    "from sklearn.metrics import confusion_matrix\n",
    "\n",
    "confmat = confusion_matrix(y_true=y_u_test, y_pred=lr_u_test_pred)\n",
    "\n",
    "fig, ax = plt.subplots(figsize=(2.5, 2.5))\n",
    "ax.matshow(confmat, cmap=plt.cm.Blues, alpha=0.3)\n",
    "for i in range(confmat.shape[0]):\n",
    "    for j in range(confmat.shape[1]):\n",
    "        ax.text(x=j, y=i,\n",
    "                s=confmat[i, j],\n",
    "                va='center', ha='center')\n",
    "plt.xlabel('predicted label')\n",
    "plt.ylabel('true label')\n",
    "plt.show()\n",
    "\n",
    "\n",
    "result=np.matrix(confmat)\n",
    "ERR=(result[0,1]+result[1,0])/(result[0,0]+result[0,1]+result[1,0]+result[1,1])\n",
    "ERR\n",
    "\n",
    "ERR_fraud=(result[1,0])/(result[1,0]+result[1,1])\n",
    "ERR_fraud\n"
   ]
  },
  {
   "cell_type": "code",
   "execution_count": 39,
   "metadata": {
    "collapsed": false
   },
   "outputs": [
    {
     "data": {
      "image/png": "[encoded data removed]",
      "text/plain": [
       "<matplotlib.figure.Figure at 0x11d2989d518>"
      ]
     },
     "metadata": {},
     "output_type": "display_data"
    }
   ],
   "source": [
    "y_c = lr_u.predict(X_std)\n",
    "confmat1 = confusion_matrix(y_true=y, y_pred=y_c)\n",
    "\n",
    "fig, ax = plt.subplots(figsize=(2.5, 2.5))\n",
    "ax.matshow(confmat1, cmap=plt.cm.Blues, alpha=0.3)\n",
    "for i in range(confmat1.shape[0]):\n",
    "    for j in range(confmat1.shape[1]):\n",
    "        ax.text(x=j, y=i,\n",
    "                s=confmat1[i, j],\n",
    "                va='center', ha='center')\n",
    "plt.xlabel('predicted label')\n",
    "plt.ylabel('true label')\n",
    "plt.show()\n",
    "\n",
    "\n"
   ]
  },
  {
   "cell_type": "code",
   "execution_count": 40,
   "metadata": {
    "collapsed": false
   },
   "outputs": [
    {
     "data": {
      "text/plain": [
       "0.070725087515405169"
      ]
     },
     "execution_count": 40,
     "metadata": {},
     "output_type": "execute_result"
    }
   ],
   "source": [
    "result=np.matrix(confmat1)\n",
    "ERR=(result[0,1]+result[1,0])/(result[0,0]+result[0,1]+result[1,0]+result[1,1])\n",
    "ERR"
   ]
  },
  {
   "cell_type": "code",
   "execution_count": 41,
   "metadata": {
    "collapsed": false
   },
   "outputs": [
    {
     "data": {
      "text/plain": [
       "0.05894308943089431"
      ]
     },
     "execution_count": 41,
     "metadata": {},
     "output_type": "execute_result"
    }
   ],
   "source": [
    "ERR_fraud=(result[1,0])/(result[1,0]+result[1,1])\n",
    "ERR_fraud"
   ]
  },
  {
   "cell_type": "markdown",
   "metadata": {},
   "source": [
    "Dropping the less helpfull attributes, we improved our accuracy (from 0.09 to 0.07), but we increase the misclassification error (from 0.0467 to 0.0589).\n",
    "\n"
   ]
  },
  {
   "cell_type": "markdown",
   "metadata": {},
   "source": [
    "In conclusion, for our task, the Logistic regression function is the best model, using Random forecast for selecting the meaningfull characteristic, we can reach a good performance which takes care of accuracy and misclassification of the fraudolent transactions."
   ]
  },
  {
   "cell_type": "code",
   "execution_count": null,
   "metadata": {
    "collapsed": true
   },
   "outputs": [],
   "source": []
  }
 ],
 "metadata": {
  "kernelspec": {
   "display_name": "Python 3",
   "language": "python",
   "name": "python3"
  },
  "language_info": {
   "codemirror_mode": {
    "name": "ipython",
    "version": 3
   },
   "file_extension": ".py",
   "mimetype": "text/x-python",
   "name": "python",
   "nbconvert_exporter": "python",
   "pygments_lexer": "ipython3",
   "version": "3.6.0"
  }
 },
 "nbformat": 4,
 "nbformat_minor": 2
}
